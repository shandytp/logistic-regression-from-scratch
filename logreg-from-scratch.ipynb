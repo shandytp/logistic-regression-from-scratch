{
 "cells": [
  {
   "cell_type": "markdown",
   "id": "6a303574",
   "metadata": {},
   "source": [
    "# Komponen Supervised case Logistic Regression:\n",
    "\n",
    "1. input --> x \n",
    "2. output --> y\n",
    "\n",
    "x dan y harus pair\n",
    "\n",
    "3. True function\n",
    "  - given x, nanti akan menghasilkan output y yang ada probabilistic dari masing - masing class nya. ex: class 1 proba 0.8, class 0 proba nya 1-0.8 = 0.2\n",
    "  - output nya y element {0, 1}\n",
    "4. Hypothesis Function\n",
    "  - linear regression yang dikasih sigmoid function (predict function)\n",
    "  \n",
    "  `y_pred = sigmoid(theta, X)`\n",
    "  $$\n",
    "  \\text{y_pred} = \\sigma(\\theta.X)\n",
    "  $$\n",
    "5. Optimization Algorithm\n",
    "  - cost function --> log likelihood\n",
    "  - stopping criterion \n",
    "      - ketika loss nya udah mendekati 0, converge\n",
    "      - iteration\n",
    "  - algorithm optimization --> gradient descent (cari best params for theta)\n",
    "  - max or min (objective nya)\n",
    "\n",
    "  gradient descent, kalo mau pake loglikelihood. di log kan karena sum lebih mudah di treat daripada product. \n",
    "  kalo negative loglikelihood berarti minimizing value nya? \n",
    "  \n",
    "  argmin cari theta dari log loss\n",
    "    \n",
    "  \n",
    "6. g element dari H\n",
    "\n",
    "objective --> memaksimalkan likelihood"
   ]
  },
  {
   "cell_type": "code",
   "execution_count": 1,
   "id": "cb6b5b35",
   "metadata": {},
   "outputs": [],
   "source": [
    "import pandas as pd\n",
    "import numpy as np\n",
    "import matplotlib.pyplot as plt\n",
    "from tqdm import tqdm\n",
    "import seaborn as sns"
   ]
  },
  {
   "cell_type": "code",
   "execution_count": 2,
   "id": "e2972eeb",
   "metadata": {},
   "outputs": [],
   "source": [
    "data_dict = {\n",
    "    \"x1\": [0, 0, 1, 1],\n",
    "    \"x2\": [0, 1, 0, 1],\n",
    "    \"y\": [0, 1, 1, 1]\n",
    "}"
   ]
  },
  {
   "cell_type": "code",
   "execution_count": 3,
   "id": "50d2451e",
   "metadata": {},
   "outputs": [],
   "source": [
    "data = pd.DataFrame(data = data_dict)"
   ]
  },
  {
   "cell_type": "code",
   "execution_count": 4,
   "id": "d68f7139",
   "metadata": {},
   "outputs": [
    {
     "data": {
      "text/html": [
       "<div>\n",
       "<style scoped>\n",
       "    .dataframe tbody tr th:only-of-type {\n",
       "        vertical-align: middle;\n",
       "    }\n",
       "\n",
       "    .dataframe tbody tr th {\n",
       "        vertical-align: top;\n",
       "    }\n",
       "\n",
       "    .dataframe thead th {\n",
       "        text-align: right;\n",
       "    }\n",
       "</style>\n",
       "<table border=\"1\" class=\"dataframe\">\n",
       "  <thead>\n",
       "    <tr style=\"text-align: right;\">\n",
       "      <th></th>\n",
       "      <th>x1</th>\n",
       "      <th>x2</th>\n",
       "      <th>y</th>\n",
       "    </tr>\n",
       "  </thead>\n",
       "  <tbody>\n",
       "    <tr>\n",
       "      <th>0</th>\n",
       "      <td>0</td>\n",
       "      <td>0</td>\n",
       "      <td>0</td>\n",
       "    </tr>\n",
       "    <tr>\n",
       "      <th>1</th>\n",
       "      <td>0</td>\n",
       "      <td>1</td>\n",
       "      <td>1</td>\n",
       "    </tr>\n",
       "    <tr>\n",
       "      <th>2</th>\n",
       "      <td>1</td>\n",
       "      <td>0</td>\n",
       "      <td>1</td>\n",
       "    </tr>\n",
       "    <tr>\n",
       "      <th>3</th>\n",
       "      <td>1</td>\n",
       "      <td>1</td>\n",
       "      <td>1</td>\n",
       "    </tr>\n",
       "  </tbody>\n",
       "</table>\n",
       "</div>"
      ],
      "text/plain": [
       "   x1  x2  y\n",
       "0   0   0  0\n",
       "1   0   1  1\n",
       "2   1   0  1\n",
       "3   1   1  1"
      ]
     },
     "execution_count": 4,
     "metadata": {},
     "output_type": "execute_result"
    }
   ],
   "source": [
    "data"
   ]
  },
  {
   "cell_type": "code",
   "execution_count": 7,
   "id": "317e3a51",
   "metadata": {},
   "outputs": [],
   "source": [
    "def sigmoid(z):\n",
    "    return 1. / (1. + np.exp(-z))"
   ]
  },
  {
   "cell_type": "code",
   "execution_count": 8,
   "id": "0e30d7be",
   "metadata": {},
   "outputs": [
    {
     "data": {
      "text/plain": [
       "[<matplotlib.lines.Line2D at 0x7f0a8beaeb90>]"
      ]
     },
     "execution_count": 8,
     "metadata": {},
     "output_type": "execute_result"
    },
    {
     "data": {
      "image/png": "[encoded data removed]",
      "text/plain": [
       "<Figure size 640x480 with 1 Axes>"
      ]
     },
     "metadata": {},
     "output_type": "display_data"
    }
   ],
   "source": [
    "x = np.linspace(-10, 10, 100)\n",
    "y = sigmoid(x)\n",
    "\n",
    "plt.plot(x, y)"
   ]
  },
  {
   "cell_type": "markdown",
   "id": "712f5772",
   "metadata": {},
   "source": [
    "### Negative Log Likelihood "
   ]
  },
  {
   "cell_type": "code",
   "execution_count": 9,
   "id": "160e41db",
   "metadata": {},
   "outputs": [],
   "source": [
    "def neg_log_likelihood(data, theta):\n",
    "    \n",
    "    N = len(data)\n",
    "    x_1 = data[\"x1\"]\n",
    "    x_2 = data[\"x2\"]\n",
    "    y = data[\"y\"]\n",
    "    \n",
    "    z = theta[0] + (theta[1] * x_1) + (theta[2] * x_2)\n",
    "    \n",
    "    proba = sigmoid(z)\n",
    "    \n",
    "    log_loss = 0\n",
    "    \n",
    "    for i in range(N):\n",
    "        log_loss += y[i]*np.log(proba[i]) + (1-y[i])*np.log(1-proba[i])\n",
    "        \n",
    "    return -log_loss, (np.array(proba) > 0.5).astype(\"int\")"
   ]
  },
  {
   "cell_type": "code",
   "execution_count": 10,
   "id": "361aa634",
   "metadata": {},
   "outputs": [],
   "source": [
    "theta = np.random.rand(3)"
   ]
  },
  {
   "cell_type": "code",
   "execution_count": 11,
   "id": "c8631c9b",
   "metadata": {},
   "outputs": [
    {
     "data": {
      "text/plain": [
       "(2.106851408909501, array([1, 1, 1, 1]))"
      ]
     },
     "execution_count": 11,
     "metadata": {},
     "output_type": "execute_result"
    }
   ],
   "source": [
    "neg_log_likelihood(data = data,\n",
    "                   theta = theta)"
   ]
  },
  {
   "cell_type": "markdown",
   "id": "c8a0f2ab",
   "metadata": {},
   "source": [
    "### Gradient Descent "
   ]
  },
  {
   "cell_type": "code",
   "execution_count": 12,
   "id": "d641fe70",
   "metadata": {},
   "outputs": [],
   "source": [
    "def neg_log_likelihood_grad(data, theta):\n",
    "    \n",
    "    N = len(data)\n",
    "    x_1 = data[\"x1\"]\n",
    "    x_2 = data[\"x2\"]\n",
    "    y = data[\"y\"]\n",
    "    \n",
    "    z = theta[0] + (theta[1] * x_1) + (theta[2] * x_2)\n",
    "    \n",
    "    proba = sigmoid(z)\n",
    "    \n",
    "    grad_c = -np.sum(y - proba)\n",
    "    grad_w1 = -np.dot(y - proba, x_1)\n",
    "    grad_w2 = -np.dot(y - proba, x_2)\n",
    "    \n",
    "    return np.array([grad_c, grad_w1, grad_w2])"
   ]
  },
  {
   "cell_type": "code",
   "execution_count": 13,
   "id": "1d6a7593",
   "metadata": {},
   "outputs": [
    {
     "data": {
      "text/plain": [
       "array([-0.48722081, -0.61262482, -0.73122349])"
      ]
     },
     "execution_count": 13,
     "metadata": {},
     "output_type": "execute_result"
    }
   ],
   "source": [
    "neg_log_likelihood_grad(data = data,\n",
    "                        theta = theta)"
   ]
  },
  {
   "cell_type": "code",
   "execution_count": 14,
   "id": "0c5bcf94",
   "metadata": {},
   "outputs": [],
   "source": [
    "def gradient_descent(data, theta,\n",
    "                     learning_rate, n_iter,\n",
    "                     epsilon = 1e-6):\n",
    "    \n",
    "    x_1 = data[\"x1\"]\n",
    "    x_2 = data[\"x2\"]\n",
    "    \n",
    "    l_history = []\n",
    "    theta_update = theta.copy()\n",
    "    \n",
    "    for i in tqdm(range(n_iter)):\n",
    "        l_i = neg_log_likelihood(data, theta_update) # calculate log loss\n",
    "        grad_i = neg_log_likelihood_grad(data, theta_update) # calculate log loss grad\n",
    "        \n",
    "        l_history.append(l_i) # likelihood yang dihitung dan masukkan history nya\n",
    "        \n",
    "        # karena kita ingin mencari nilai paling kecil, maka dikurangi\n",
    "        theta_update -= learning_rate * grad_i \n",
    "        \n",
    "        # jika nilai grad lebih kecil dari epsilon atau nilai yg berkurang tidak signifikan maka akan stop\n",
    "        if np.abs(grad_i).all() < epsilon:\n",
    "            break\n",
    "        \n",
    "    z = theta_update[0] + (theta_update[1] * x_1) + (theta_update[2] * x_2)\n",
    "    \n",
    "    proba = sigmoid(z)\n",
    "        \n",
    "    return theta_update, l_history, (np.array(proba) > 0.5).astype(\"int\")"
   ]
  },
  {
   "cell_type": "code",
   "execution_count": 15,
   "id": "b23a2816",
   "metadata": {},
   "outputs": [
    {
     "name": "stderr",
     "output_type": "stream",
     "text": [
      "100%|████████████████████████████████████| 50000/50000 [01:27<00:00, 569.42it/s]\n"
     ]
    }
   ],
   "source": [
    "theta = np.random.rand(3)\n",
    "\n",
    "theta, history, proba_result = gradient_descent(data, theta,\n",
    "                                                learning_rate = 1e-3,\n",
    "                                                n_iter=50_000)"
   ]
  },
  {
   "cell_type": "code",
   "execution_count": 16,
   "id": "efd2de6e",
   "metadata": {},
   "outputs": [
    {
     "data": {
      "text/plain": [
       "array([0, 1, 1, 1])"
      ]
     },
     "execution_count": 16,
     "metadata": {},
     "output_type": "execute_result"
    }
   ],
   "source": [
    "proba_result"
   ]
  },
  {
   "cell_type": "code",
   "execution_count": 17,
   "id": "02812e1f",
   "metadata": {},
   "outputs": [
    {
     "data": {
      "text/plain": [
       "[(0.18600033398523091, array([0, 1, 1, 1])),\n",
       " (0.1859967562542944, array([0, 1, 1, 1])),\n",
       " (0.1859931786563576, array([0, 1, 1, 1])),\n",
       " (0.1859896011914138, array([0, 1, 1, 1])),\n",
       " (0.18598602385945495, array([0, 1, 1, 1])),\n",
       " (0.1859824466604742, array([0, 1, 1, 1])),\n",
       " (0.18597886959446394, array([0, 1, 1, 1])),\n",
       " (0.18597529266141774, array([0, 1, 1, 1])),\n",
       " (0.18597171586132774, array([0, 1, 1, 1])),\n",
       " (0.1859681391941865, array([0, 1, 1, 1]))]"
      ]
     },
     "execution_count": 17,
     "metadata": {},
     "output_type": "execute_result"
    }
   ],
   "source": [
    "history[-10:]"
   ]
  },
  {
   "cell_type": "code",
   "execution_count": 18,
   "id": "a803c5e9",
   "metadata": {},
   "outputs": [
    {
     "data": {
      "text/plain": [
       "array([-2.19907479,  5.38762145,  5.39287227])"
      ]
     },
     "execution_count": 18,
     "metadata": {},
     "output_type": "execute_result"
    }
   ],
   "source": [
    "theta"
   ]
  },
  {
   "cell_type": "code",
   "execution_count": 19,
   "id": "f506e42a",
   "metadata": {},
   "outputs": [],
   "source": [
    "b = theta[0]\n",
    "w_1 = theta[1]\n",
    "w_2 = theta[2]"
   ]
  },
  {
   "cell_type": "code",
   "execution_count": 20,
   "id": "1cd6cb3c",
   "metadata": {},
   "outputs": [],
   "source": [
    "m = -w_1/w_2\n",
    "c = -b/w_2"
   ]
  },
  {
   "cell_type": "code",
   "execution_count": 24,
   "id": "975d96c8",
   "metadata": {},
   "outputs": [
    {
     "data": {
      "image/png": "[encoded data removed]",
      "text/plain": [
       "<Figure size 640x480 with 1 Axes>"
      ]
     },
     "metadata": {},
     "output_type": "display_data"
    }
   ],
   "source": [
    "sns.scatterplot(data=data,\n",
    "                x=\"x1\",\n",
    "                y=\"x2\",\n",
    "                hue=\"y\")\n",
    "\n",
    "\n",
    "x_support = np.linspace(-2, 2)\n",
    "y_support = m*x_support + c\n",
    "\n",
    "plt.plot(x_support, y_support, \"--r\")\n",
    "\n",
    "plt.show()"
   ]
  }
 ],
 "metadata": {
  "kernelspec": {
   "display_name": "Python 3 (ipykernel)",
   "language": "python",
   "name": "python3"
  },
  "language_info": {
   "codemirror_mode": {
    "name": "ipython",
    "version": 3
   },
   "file_extension": ".py",
   "mimetype": "text/x-python",
   "name": "python",
   "nbconvert_exporter": "python",
   "pygments_lexer": "ipython3",
   "version": "3.10.8"
  }
 },
 "nbformat": 4,
 "nbformat_minor": 5
}
