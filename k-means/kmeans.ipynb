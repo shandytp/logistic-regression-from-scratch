{
 "cells": [
  {
   "cell_type": "code",
   "execution_count": 19,
   "id": "71aa61e5",
   "metadata": {},
   "outputs": [],
   "source": [
    "import pandas as pd\n",
    "import numpy as np\n",
    "import matplotlib.pyplot as plt\n",
    "import seaborn as sns\n",
    "from sklearn.datasets import make_blobs"
   ]
  },
  {
   "cell_type": "markdown",
   "id": "5ae3eb64",
   "metadata": {},
   "source": [
    "ref: https://muthu.co/mathematics-behind-k-mean-clustering-algorithm/"
   ]
  },
  {
   "cell_type": "code",
   "execution_count": 65,
   "id": "367627f5",
   "metadata": {},
   "outputs": [],
   "source": [
    "class KMeans:\n",
    "    def __init__(self, k = 3, max_iter = 500):\n",
    "        # initiate k and max_iter params\n",
    "        self.k = k\n",
    "        self.max_iter = max_iter\n",
    "        \n",
    "    # euclidean distance untuk menghitung distance antara\n",
    "    # koordinat data dengan koordinat centroids\n",
    "    def euclidean_distance(self, data, centroid):\n",
    "        dist = np.sqrt((data[0] - centroid[0])**2 + (data[1] - centroid[1])**2)\n",
    "\n",
    "        return dist\n",
    "    \n",
    "    def fit(self, data):\n",
    "        \n",
    "        # buat titik centroid awal dari koordinat dataset\n",
    "        \"\"\"\n",
    "        if we initiate 3 centroids\n",
    "        \n",
    "        data = [[2, 3],\n",
    "                [4, 5],\n",
    "                [6, 7]\n",
    "                ]\n",
    "                \n",
    "        centroid_1 = [2, 3]\n",
    "        centroid_2 = [4, 5]\n",
    "        centroid_3 = [6, 7]\n",
    "        \"\"\"\n",
    "        self.centroids = {}\n",
    "        for i in range(self.k):\n",
    "            self.centroids[i] = data[i]\n",
    "        \n",
    "        # start k-means clustering process\n",
    "        for i in range(self.max_iter):\n",
    "            self.classes = {}\n",
    "            \n",
    "            for j in range(self.k):\n",
    "                self.classes[j] = []\n",
    "            \n",
    "            # mencari distance antara data point dan centroid \n",
    "            for point in data:\n",
    "                distances = []\n",
    "                for index in self.centroids:\n",
    "                    distances.append(self.euclidean_distance(point, self.centroids[index]))\n",
    "                    \n",
    "                cluster_index = distances.index(min(distances))\n",
    "                self.classes[cluster_index].append(point)\n",
    "            \n",
    "            # mencari new centroid dari nilai average dari masing - masing cluster (data point nya)\n",
    "            for cluster_index in self.classes:\n",
    "                self.centroids[cluster_index] = np.average(self.classes[cluster_index], axis = 0)"
   ]
  },
  {
   "cell_type": "code",
   "execution_count": 66,
   "id": "48ea83bc",
   "metadata": {},
   "outputs": [],
   "source": [
    "kmeans = KMeans()"
   ]
  },
  {
   "cell_type": "code",
   "execution_count": 67,
   "id": "3a03d170",
   "metadata": {},
   "outputs": [],
   "source": [
    "data = [4, 3]\n",
    "centroid = [2, 1]"
   ]
  },
  {
   "cell_type": "code",
   "execution_count": 68,
   "id": "c2abebd2",
   "metadata": {},
   "outputs": [
    {
     "data": {
      "text/plain": [
       "2.8284271247461903"
      ]
     },
     "execution_count": 68,
     "metadata": {},
     "output_type": "execute_result"
    }
   ],
   "source": [
    "kmeans.euclidean_distance(data, centroid)"
   ]
  },
  {
   "cell_type": "code",
   "execution_count": 69,
   "id": "6fb93730",
   "metadata": {},
   "outputs": [],
   "source": [
    "X, y = make_blobs(n_samples = 300, centers = 3,\n",
    "                  cluster_std = 0.60, random_state = 42)"
   ]
  },
  {
   "cell_type": "code",
   "execution_count": 70,
   "id": "e4ca41fd",
   "metadata": {},
   "outputs": [],
   "source": [
    "kmeans.fit(X)"
   ]
  },
  {
   "cell_type": "code",
   "execution_count": 71,
   "id": "ab0628ef",
   "metadata": {},
   "outputs": [
    {
     "data": {
      "text/plain": [
       "{0: array([-6.64812834, -7.27912162]),\n",
       " 1: array([-7.21897129, -6.45793309]),\n",
       " 2: array([1.06029745, 5.51374038])}"
      ]
     },
     "execution_count": 71,
     "metadata": {},
     "output_type": "execute_result"
    }
   ],
   "source": [
    "kmeans.centroids"
   ]
  },
  {
   "cell_type": "code",
   "execution_count": 72,
   "id": "83a595c2",
   "metadata": {},
   "outputs": [
    {
     "data": {
      "text/plain": [
       "[0, 1, 2]"
      ]
     },
     "execution_count": 72,
     "metadata": {},
     "output_type": "execute_result"
    }
   ],
   "source": [
    "list(kmeans.classes.keys())"
   ]
  },
  {
   "cell_type": "code",
   "execution_count": 73,
   "id": "63ca2efc",
   "metadata": {},
   "outputs": [
    {
     "data": {
      "image/png": "[encoded data removed]",
      "text/plain": [
       "<Figure size 640x480 with 1 Axes>"
      ]
     },
     "metadata": {},
     "output_type": "display_data"
    }
   ],
   "source": [
    "for centroid in kmeans.classes:\n",
    "    plt.scatter(kmeans.centroids[centroid][0], kmeans.centroids[centroid][1], s = 130, marker = \"x\")\n"
   ]
  },
  {
   "cell_type": "code",
   "execution_count": 74,
   "id": "f7def5e0",
   "metadata": {},
   "outputs": [
    {
     "data": {
      "image/png": "[encoded data removed]",
      "text/plain": [
       "<Figure size 640x480 with 1 Axes>"
      ]
     },
     "metadata": {},
     "output_type": "display_data"
    }
   ],
   "source": [
    "colors = 10*[\"r\", \"g\", \"c\", \"b\", \"k\"]\n",
    "\n",
    "for cluster_index in kmeans.classes:\n",
    "    color = colors[cluster_index]\n",
    "    for features in kmeans.classes[cluster_index]:\n",
    "        plt.scatter(features[0], features[1], color = color, s=30)"
   ]
  },
  {
   "cell_type": "code",
   "execution_count": 75,
   "id": "b6debfc0",
   "metadata": {},
   "outputs": [
    {
     "data": {
      "text/html": [
       "<div>\n",
       "<style scoped>\n",
       "    .dataframe tbody tr th:only-of-type {\n",
       "        vertical-align: middle;\n",
       "    }\n",
       "\n",
       "    .dataframe tbody tr th {\n",
       "        vertical-align: top;\n",
       "    }\n",
       "\n",
       "    .dataframe thead th {\n",
       "        text-align: right;\n",
       "    }\n",
       "</style>\n",
       "<table border=\"1\" class=\"dataframe\">\n",
       "  <thead>\n",
       "    <tr style=\"text-align: right;\">\n",
       "      <th></th>\n",
       "      <th>CustomerID</th>\n",
       "      <th>Gender</th>\n",
       "      <th>Age</th>\n",
       "      <th>Annual Income (k$)</th>\n",
       "      <th>Spending Score (1-100)</th>\n",
       "    </tr>\n",
       "  </thead>\n",
       "  <tbody>\n",
       "    <tr>\n",
       "      <th>0</th>\n",
       "      <td>1</td>\n",
       "      <td>Male</td>\n",
       "      <td>19</td>\n",
       "      <td>15</td>\n",
       "      <td>39</td>\n",
       "    </tr>\n",
       "    <tr>\n",
       "      <th>1</th>\n",
       "      <td>2</td>\n",
       "      <td>Male</td>\n",
       "      <td>21</td>\n",
       "      <td>15</td>\n",
       "      <td>81</td>\n",
       "    </tr>\n",
       "    <tr>\n",
       "      <th>2</th>\n",
       "      <td>3</td>\n",
       "      <td>Female</td>\n",
       "      <td>20</td>\n",
       "      <td>16</td>\n",
       "      <td>6</td>\n",
       "    </tr>\n",
       "    <tr>\n",
       "      <th>3</th>\n",
       "      <td>4</td>\n",
       "      <td>Female</td>\n",
       "      <td>23</td>\n",
       "      <td>16</td>\n",
       "      <td>77</td>\n",
       "    </tr>\n",
       "    <tr>\n",
       "      <th>4</th>\n",
       "      <td>5</td>\n",
       "      <td>Female</td>\n",
       "      <td>31</td>\n",
       "      <td>17</td>\n",
       "      <td>40</td>\n",
       "    </tr>\n",
       "  </tbody>\n",
       "</table>\n",
       "</div>"
      ],
      "text/plain": [
       "   CustomerID  Gender  Age  Annual Income (k$)  Spending Score (1-100)\n",
       "0           1    Male   19                  15                      39\n",
       "1           2    Male   21                  15                      81\n",
       "2           3  Female   20                  16                       6\n",
       "3           4  Female   23                  16                      77\n",
       "4           5  Female   31                  17                      40"
      ]
     },
     "execution_count": 75,
     "metadata": {},
     "output_type": "execute_result"
    }
   ],
   "source": [
    "data = pd.read_csv(\"Mall_Customers.csv\")\n",
    "data.head()"
   ]
  },
  {
   "cell_type": "code",
   "execution_count": 77,
   "id": "c852a24d",
   "metadata": {},
   "outputs": [],
   "source": [
    "data = data[[\"Annual Income (k$)\", \"Spending Score (1-100)\"]].copy()"
   ]
  },
  {
   "cell_type": "code",
   "execution_count": 78,
   "id": "261a0848",
   "metadata": {},
   "outputs": [
    {
     "data": {
      "text/plain": [
       "array([[ 15,  39],\n",
       "       [ 15,  81],\n",
       "       [ 16,   6],\n",
       "       [ 16,  77],\n",
       "       [ 17,  40],\n",
       "       [ 17,  76],\n",
       "       [ 18,   6],\n",
       "       [ 18,  94],\n",
       "       [ 19,   3],\n",
       "       [ 19,  72],\n",
       "       [ 19,  14],\n",
       "       [ 19,  99],\n",
       "       [ 20,  15],\n",
       "       [ 20,  77],\n",
       "       [ 20,  13],\n",
       "       [ 20,  79],\n",
       "       [ 21,  35],\n",
       "       [ 21,  66],\n",
       "       [ 23,  29],\n",
       "       [ 23,  98],\n",
       "       [ 24,  35],\n",
       "       [ 24,  73],\n",
       "       [ 25,   5],\n",
       "       [ 25,  73],\n",
       "       [ 28,  14],\n",
       "       [ 28,  82],\n",
       "       [ 28,  32],\n",
       "       [ 28,  61],\n",
       "       [ 29,  31],\n",
       "       [ 29,  87],\n",
       "       [ 30,   4],\n",
       "       [ 30,  73],\n",
       "       [ 33,   4],\n",
       "       [ 33,  92],\n",
       "       [ 33,  14],\n",
       "       [ 33,  81],\n",
       "       [ 34,  17],\n",
       "       [ 34,  73],\n",
       "       [ 37,  26],\n",
       "       [ 37,  75],\n",
       "       [ 38,  35],\n",
       "       [ 38,  92],\n",
       "       [ 39,  36],\n",
       "       [ 39,  61],\n",
       "       [ 39,  28],\n",
       "       [ 39,  65],\n",
       "       [ 40,  55],\n",
       "       [ 40,  47],\n",
       "       [ 40,  42],\n",
       "       [ 40,  42],\n",
       "       [ 42,  52],\n",
       "       [ 42,  60],\n",
       "       [ 43,  54],\n",
       "       [ 43,  60],\n",
       "       [ 43,  45],\n",
       "       [ 43,  41],\n",
       "       [ 44,  50],\n",
       "       [ 44,  46],\n",
       "       [ 46,  51],\n",
       "       [ 46,  46],\n",
       "       [ 46,  56],\n",
       "       [ 46,  55],\n",
       "       [ 47,  52],\n",
       "       [ 47,  59],\n",
       "       [ 48,  51],\n",
       "       [ 48,  59],\n",
       "       [ 48,  50],\n",
       "       [ 48,  48],\n",
       "       [ 48,  59],\n",
       "       [ 48,  47],\n",
       "       [ 49,  55],\n",
       "       [ 49,  42],\n",
       "       [ 50,  49],\n",
       "       [ 50,  56],\n",
       "       [ 54,  47],\n",
       "       [ 54,  54],\n",
       "       [ 54,  53],\n",
       "       [ 54,  48],\n",
       "       [ 54,  52],\n",
       "       [ 54,  42],\n",
       "       [ 54,  51],\n",
       "       [ 54,  55],\n",
       "       [ 54,  41],\n",
       "       [ 54,  44],\n",
       "       [ 54,  57],\n",
       "       [ 54,  46],\n",
       "       [ 57,  58],\n",
       "       [ 57,  55],\n",
       "       [ 58,  60],\n",
       "       [ 58,  46],\n",
       "       [ 59,  55],\n",
       "       [ 59,  41],\n",
       "       [ 60,  49],\n",
       "       [ 60,  40],\n",
       "       [ 60,  42],\n",
       "       [ 60,  52],\n",
       "       [ 60,  47],\n",
       "       [ 60,  50],\n",
       "       [ 61,  42],\n",
       "       [ 61,  49],\n",
       "       [ 62,  41],\n",
       "       [ 62,  48],\n",
       "       [ 62,  59],\n",
       "       [ 62,  55],\n",
       "       [ 62,  56],\n",
       "       [ 62,  42],\n",
       "       [ 63,  50],\n",
       "       [ 63,  46],\n",
       "       [ 63,  43],\n",
       "       [ 63,  48],\n",
       "       [ 63,  52],\n",
       "       [ 63,  54],\n",
       "       [ 64,  42],\n",
       "       [ 64,  46],\n",
       "       [ 65,  48],\n",
       "       [ 65,  50],\n",
       "       [ 65,  43],\n",
       "       [ 65,  59],\n",
       "       [ 67,  43],\n",
       "       [ 67,  57],\n",
       "       [ 67,  56],\n",
       "       [ 67,  40],\n",
       "       [ 69,  58],\n",
       "       [ 69,  91],\n",
       "       [ 70,  29],\n",
       "       [ 70,  77],\n",
       "       [ 71,  35],\n",
       "       [ 71,  95],\n",
       "       [ 71,  11],\n",
       "       [ 71,  75],\n",
       "       [ 71,   9],\n",
       "       [ 71,  75],\n",
       "       [ 72,  34],\n",
       "       [ 72,  71],\n",
       "       [ 73,   5],\n",
       "       [ 73,  88],\n",
       "       [ 73,   7],\n",
       "       [ 73,  73],\n",
       "       [ 74,  10],\n",
       "       [ 74,  72],\n",
       "       [ 75,   5],\n",
       "       [ 75,  93],\n",
       "       [ 76,  40],\n",
       "       [ 76,  87],\n",
       "       [ 77,  12],\n",
       "       [ 77,  97],\n",
       "       [ 77,  36],\n",
       "       [ 77,  74],\n",
       "       [ 78,  22],\n",
       "       [ 78,  90],\n",
       "       [ 78,  17],\n",
       "       [ 78,  88],\n",
       "       [ 78,  20],\n",
       "       [ 78,  76],\n",
       "       [ 78,  16],\n",
       "       [ 78,  89],\n",
       "       [ 78,   1],\n",
       "       [ 78,  78],\n",
       "       [ 78,   1],\n",
       "       [ 78,  73],\n",
       "       [ 79,  35],\n",
       "       [ 79,  83],\n",
       "       [ 81,   5],\n",
       "       [ 81,  93],\n",
       "       [ 85,  26],\n",
       "       [ 85,  75],\n",
       "       [ 86,  20],\n",
       "       [ 86,  95],\n",
       "       [ 87,  27],\n",
       "       [ 87,  63],\n",
       "       [ 87,  13],\n",
       "       [ 87,  75],\n",
       "       [ 87,  10],\n",
       "       [ 87,  92],\n",
       "       [ 88,  13],\n",
       "       [ 88,  86],\n",
       "       [ 88,  15],\n",
       "       [ 88,  69],\n",
       "       [ 93,  14],\n",
       "       [ 93,  90],\n",
       "       [ 97,  32],\n",
       "       [ 97,  86],\n",
       "       [ 98,  15],\n",
       "       [ 98,  88],\n",
       "       [ 99,  39],\n",
       "       [ 99,  97],\n",
       "       [101,  24],\n",
       "       [101,  68],\n",
       "       [103,  17],\n",
       "       [103,  85],\n",
       "       [103,  23],\n",
       "       [103,  69],\n",
       "       [113,   8],\n",
       "       [113,  91],\n",
       "       [120,  16],\n",
       "       [120,  79],\n",
       "       [126,  28],\n",
       "       [126,  74],\n",
       "       [137,  18],\n",
       "       [137,  83]])"
      ]
     },
     "execution_count": 78,
     "metadata": {},
     "output_type": "execute_result"
    }
   ],
   "source": [
    "data_numpy = data.to_numpy()\n",
    "data_numpy"
   ]
  },
  {
   "cell_type": "code",
   "execution_count": 79,
   "id": "4d2f1cde",
   "metadata": {},
   "outputs": [],
   "source": [
    "kmeans = KMeans(k=5, max_iter=1000)"
   ]
  },
  {
   "cell_type": "code",
   "execution_count": 80,
   "id": "dea2cbeb",
   "metadata": {},
   "outputs": [],
   "source": [
    "kmeans.fit(data_numpy)"
   ]
  },
  {
   "cell_type": "code",
   "execution_count": 81,
   "id": "3f45c7eb",
   "metadata": {},
   "outputs": [
    {
     "data": {
      "text/plain": [
       "{0: array([26.30434783, 20.91304348]),\n",
       " 1: array([25.72727273, 79.36363636]),\n",
       " 2: array([88.2       , 17.11428571]),\n",
       " 3: array([86.53846154, 82.12820513]),\n",
       " 4: array([55.2962963 , 49.51851852])}"
      ]
     },
     "execution_count": 81,
     "metadata": {},
     "output_type": "execute_result"
    }
   ],
   "source": [
    "kmeans.centroids"
   ]
  },
  {
   "cell_type": "code",
   "execution_count": 82,
   "id": "d5c5fc21",
   "metadata": {},
   "outputs": [
    {
     "data": {
      "text/plain": [
       "{0: [array([15, 39]),\n",
       "  array([16,  6]),\n",
       "  array([17, 40]),\n",
       "  array([18,  6]),\n",
       "  array([19,  3]),\n",
       "  array([19, 14]),\n",
       "  array([20, 15]),\n",
       "  array([20, 13]),\n",
       "  array([21, 35]),\n",
       "  array([23, 29]),\n",
       "  array([24, 35]),\n",
       "  array([25,  5]),\n",
       "  array([28, 14]),\n",
       "  array([28, 32]),\n",
       "  array([29, 31]),\n",
       "  array([30,  4]),\n",
       "  array([33,  4]),\n",
       "  array([33, 14]),\n",
       "  array([34, 17]),\n",
       "  array([37, 26]),\n",
       "  array([38, 35]),\n",
       "  array([39, 36]),\n",
       "  array([39, 28])],\n",
       " 1: [array([15, 81]),\n",
       "  array([16, 77]),\n",
       "  array([17, 76]),\n",
       "  array([18, 94]),\n",
       "  array([19, 72]),\n",
       "  array([19, 99]),\n",
       "  array([20, 77]),\n",
       "  array([20, 79]),\n",
       "  array([21, 66]),\n",
       "  array([23, 98]),\n",
       "  array([24, 73]),\n",
       "  array([25, 73]),\n",
       "  array([28, 82]),\n",
       "  array([28, 61]),\n",
       "  array([29, 87]),\n",
       "  array([30, 73]),\n",
       "  array([33, 92]),\n",
       "  array([33, 81]),\n",
       "  array([34, 73]),\n",
       "  array([37, 75]),\n",
       "  array([38, 92]),\n",
       "  array([39, 65])],\n",
       " 2: [array([70, 29]),\n",
       "  array([71, 11]),\n",
       "  array([71,  9]),\n",
       "  array([73,  5]),\n",
       "  array([73,  7]),\n",
       "  array([74, 10]),\n",
       "  array([75,  5]),\n",
       "  array([77, 12]),\n",
       "  array([77, 36]),\n",
       "  array([78, 22]),\n",
       "  array([78, 17]),\n",
       "  array([78, 20]),\n",
       "  array([78, 16]),\n",
       "  array([78,  1]),\n",
       "  array([78,  1]),\n",
       "  array([79, 35]),\n",
       "  array([81,  5]),\n",
       "  array([85, 26]),\n",
       "  array([86, 20]),\n",
       "  array([87, 27]),\n",
       "  array([87, 13]),\n",
       "  array([87, 10]),\n",
       "  array([88, 13]),\n",
       "  array([88, 15]),\n",
       "  array([93, 14]),\n",
       "  array([97, 32]),\n",
       "  array([98, 15]),\n",
       "  array([99, 39]),\n",
       "  array([101,  24]),\n",
       "  array([103,  17]),\n",
       "  array([103,  23]),\n",
       "  array([113,   8]),\n",
       "  array([120,  16]),\n",
       "  array([126,  28]),\n",
       "  array([137,  18])],\n",
       " 3: [array([69, 91]),\n",
       "  array([70, 77]),\n",
       "  array([71, 95]),\n",
       "  array([71, 75]),\n",
       "  array([71, 75]),\n",
       "  array([72, 71]),\n",
       "  array([73, 88]),\n",
       "  array([73, 73]),\n",
       "  array([74, 72]),\n",
       "  array([75, 93]),\n",
       "  array([76, 87]),\n",
       "  array([77, 97]),\n",
       "  array([77, 74]),\n",
       "  array([78, 90]),\n",
       "  array([78, 88]),\n",
       "  array([78, 76]),\n",
       "  array([78, 89]),\n",
       "  array([78, 78]),\n",
       "  array([78, 73]),\n",
       "  array([79, 83]),\n",
       "  array([81, 93]),\n",
       "  array([85, 75]),\n",
       "  array([86, 95]),\n",
       "  array([87, 63]),\n",
       "  array([87, 75]),\n",
       "  array([87, 92]),\n",
       "  array([88, 86]),\n",
       "  array([88, 69]),\n",
       "  array([93, 90]),\n",
       "  array([97, 86]),\n",
       "  array([98, 88]),\n",
       "  array([99, 97]),\n",
       "  array([101,  68]),\n",
       "  array([103,  85]),\n",
       "  array([103,  69]),\n",
       "  array([113,  91]),\n",
       "  array([120,  79]),\n",
       "  array([126,  74]),\n",
       "  array([137,  83])],\n",
       " 4: [array([39, 61]),\n",
       "  array([40, 55]),\n",
       "  array([40, 47]),\n",
       "  array([40, 42]),\n",
       "  array([40, 42]),\n",
       "  array([42, 52]),\n",
       "  array([42, 60]),\n",
       "  array([43, 54]),\n",
       "  array([43, 60]),\n",
       "  array([43, 45]),\n",
       "  array([43, 41]),\n",
       "  array([44, 50]),\n",
       "  array([44, 46]),\n",
       "  array([46, 51]),\n",
       "  array([46, 46]),\n",
       "  array([46, 56]),\n",
       "  array([46, 55]),\n",
       "  array([47, 52]),\n",
       "  array([47, 59]),\n",
       "  array([48, 51]),\n",
       "  array([48, 59]),\n",
       "  array([48, 50]),\n",
       "  array([48, 48]),\n",
       "  array([48, 59]),\n",
       "  array([48, 47]),\n",
       "  array([49, 55]),\n",
       "  array([49, 42]),\n",
       "  array([50, 49]),\n",
       "  array([50, 56]),\n",
       "  array([54, 47]),\n",
       "  array([54, 54]),\n",
       "  array([54, 53]),\n",
       "  array([54, 48]),\n",
       "  array([54, 52]),\n",
       "  array([54, 42]),\n",
       "  array([54, 51]),\n",
       "  array([54, 55]),\n",
       "  array([54, 41]),\n",
       "  array([54, 44]),\n",
       "  array([54, 57]),\n",
       "  array([54, 46]),\n",
       "  array([57, 58]),\n",
       "  array([57, 55]),\n",
       "  array([58, 60]),\n",
       "  array([58, 46]),\n",
       "  array([59, 55]),\n",
       "  array([59, 41]),\n",
       "  array([60, 49]),\n",
       "  array([60, 40]),\n",
       "  array([60, 42]),\n",
       "  array([60, 52]),\n",
       "  array([60, 47]),\n",
       "  array([60, 50]),\n",
       "  array([61, 42]),\n",
       "  array([61, 49]),\n",
       "  array([62, 41]),\n",
       "  array([62, 48]),\n",
       "  array([62, 59]),\n",
       "  array([62, 55]),\n",
       "  array([62, 56]),\n",
       "  array([62, 42]),\n",
       "  array([63, 50]),\n",
       "  array([63, 46]),\n",
       "  array([63, 43]),\n",
       "  array([63, 48]),\n",
       "  array([63, 52]),\n",
       "  array([63, 54]),\n",
       "  array([64, 42]),\n",
       "  array([64, 46]),\n",
       "  array([65, 48]),\n",
       "  array([65, 50]),\n",
       "  array([65, 43]),\n",
       "  array([65, 59]),\n",
       "  array([67, 43]),\n",
       "  array([67, 57]),\n",
       "  array([67, 56]),\n",
       "  array([67, 40]),\n",
       "  array([69, 58]),\n",
       "  array([71, 35]),\n",
       "  array([72, 34]),\n",
       "  array([76, 40])]}"
      ]
     },
     "execution_count": 82,
     "metadata": {},
     "output_type": "execute_result"
    }
   ],
   "source": [
    "kmeans.classes"
   ]
  },
  {
   "cell_type": "code",
   "execution_count": 83,
   "id": "3b160ac6",
   "metadata": {},
   "outputs": [
    {
     "data": {
      "image/png": "[encoded data removed]",
      "text/plain": [
       "<Figure size 640x480 with 1 Axes>"
      ]
     },
     "metadata": {},
     "output_type": "display_data"
    }
   ],
   "source": [
    "for centroid in kmeans.classes:\n",
    "    plt.scatter(kmeans.centroids[centroid][0], kmeans.centroids[centroid][1], s = 130, marker = \"x\")"
   ]
  },
  {
   "cell_type": "code",
   "execution_count": 97,
   "id": "ab674a2f",
   "metadata": {},
   "outputs": [
    {
     "data": {
      "text/plain": [
       "137"
      ]
     },
     "execution_count": 97,
     "metadata": {},
     "output_type": "execute_result"
    }
   ],
   "source": [
    "np.max(data_numpy)"
   ]
  },
  {
   "cell_type": "code",
   "execution_count": 98,
   "id": "651b3406",
   "metadata": {},
   "outputs": [
    {
     "data": {
      "image/png": "[encoded data removed]",
      "text/plain": [
       "<Figure size 640x480 with 1 Axes>"
      ]
     },
     "metadata": {},
     "output_type": "display_data"
    }
   ],
   "source": [
    "for cluster_index in kmeans.classes:\n",
    "    color = colors[cluster_index]\n",
    "    for features in kmeans.classes[cluster_index]:\n",
    "        plt.title(\"Mall Customers Segmentation\")\n",
    "        plt.xlim(0, 150)\n",
    "        plt.xlabel(\"Annual Income\")\n",
    "        plt.ylabel(\"Spending Score\")\n",
    "        plt.scatter(features[0], features[1], color = color, s=30)"
   ]
  }
 ],
 "metadata": {
  "kernelspec": {
   "display_name": "Python 3 (ipykernel)",
   "language": "python",
   "name": "python3"
  },
  "language_info": {
   "codemirror_mode": {
    "name": "ipython",
    "version": 3
   },
   "file_extension": ".py",
   "mimetype": "text/x-python",
   "name": "python",
   "nbconvert_exporter": "python",
   "pygments_lexer": "ipython3",
   "version": "3.10.8"
  }
 },
 "nbformat": 4,
 "nbformat_minor": 5
}
