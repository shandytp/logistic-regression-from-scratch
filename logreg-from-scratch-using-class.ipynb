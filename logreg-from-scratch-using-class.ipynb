{
 "cells": [
  {
   "cell_type": "code",
   "execution_count": 45,
   "id": "cb6b5b35",
   "metadata": {},
   "outputs": [],
   "source": [
    "import pandas as pd\n",
    "import numpy as np\n",
    "import matplotlib.pyplot as plt\n",
    "from tqdm import tqdm\n",
    "import seaborn as sns"
   ]
  },
  {
   "cell_type": "code",
   "execution_count": 46,
   "id": "e2972eeb",
   "metadata": {},
   "outputs": [],
   "source": [
    "data_dict = {\n",
    "    \"x1\": [0, 0, 1, 1],\n",
    "    \"x2\": [0, 1, 0, 1],\n",
    "    \"y\": [0, 1, 1, 1]\n",
    "}"
   ]
  },
  {
   "cell_type": "code",
   "execution_count": 3,
   "id": "50d2451e",
   "metadata": {},
   "outputs": [],
   "source": [
    "data = pd.DataFrame(data = data_dict)"
   ]
  },
  {
   "cell_type": "code",
   "execution_count": 4,
   "id": "d68f7139",
   "metadata": {},
   "outputs": [
    {
     "data": {
      "text/html": [
       "<div>\n",
       "<style scoped>\n",
       "    .dataframe tbody tr th:only-of-type {\n",
       "        vertical-align: middle;\n",
       "    }\n",
       "\n",
       "    .dataframe tbody tr th {\n",
       "        vertical-align: top;\n",
       "    }\n",
       "\n",
       "    .dataframe thead th {\n",
       "        text-align: right;\n",
       "    }\n",
       "</style>\n",
       "<table border=\"1\" class=\"dataframe\">\n",
       "  <thead>\n",
       "    <tr style=\"text-align: right;\">\n",
       "      <th></th>\n",
       "      <th>x1</th>\n",
       "      <th>x2</th>\n",
       "      <th>y</th>\n",
       "    </tr>\n",
       "  </thead>\n",
       "  <tbody>\n",
       "    <tr>\n",
       "      <th>0</th>\n",
       "      <td>0</td>\n",
       "      <td>0</td>\n",
       "      <td>0</td>\n",
       "    </tr>\n",
       "    <tr>\n",
       "      <th>1</th>\n",
       "      <td>0</td>\n",
       "      <td>1</td>\n",
       "      <td>1</td>\n",
       "    </tr>\n",
       "    <tr>\n",
       "      <th>2</th>\n",
       "      <td>1</td>\n",
       "      <td>0</td>\n",
       "      <td>1</td>\n",
       "    </tr>\n",
       "    <tr>\n",
       "      <th>3</th>\n",
       "      <td>1</td>\n",
       "      <td>1</td>\n",
       "      <td>1</td>\n",
       "    </tr>\n",
       "  </tbody>\n",
       "</table>\n",
       "</div>"
      ],
      "text/plain": [
       "   x1  x2  y\n",
       "0   0   0  0\n",
       "1   0   1  1\n",
       "2   1   0  1\n",
       "3   1   1  1"
      ]
     },
     "execution_count": 4,
     "metadata": {},
     "output_type": "execute_result"
    }
   ],
   "source": [
    "data"
   ]
  },
  {
   "cell_type": "code",
   "execution_count": 19,
   "id": "5cd546ed",
   "metadata": {},
   "outputs": [],
   "source": [
    "tst = data[[\"x1\", \"x2\"]]"
   ]
  },
  {
   "cell_type": "code",
   "execution_count": 21,
   "id": "c8fdbdcc",
   "metadata": {},
   "outputs": [
    {
     "data": {
      "text/plain": [
       "2"
      ]
     },
     "execution_count": 21,
     "metadata": {},
     "output_type": "execute_result"
    }
   ],
   "source": [
    "np.shape(tst)[1]"
   ]
  },
  {
   "cell_type": "code",
   "execution_count": 47,
   "id": "2c4b8611",
   "metadata": {},
   "outputs": [],
   "source": [
    "class LogisticRegression:\n",
    "    \n",
    "    def __init__(self, learning_rate = 0.001, \n",
    "                 n_iter = 1000,\n",
    "                 epsilon = 1e-6):\n",
    "        \n",
    "        self.learning_rate = learning_rate\n",
    "        self.n_iter = n_iter\n",
    "        self.epsilon = epsilon\n",
    "        \n",
    "    def _sigmoid(self, z):\n",
    "        return 1. / (1. + np.exp(-z))\n",
    "    \n",
    "    def _init_params(self, X):\n",
    "        \n",
    "        n_features = np.shape(X)[1]\n",
    "        \n",
    "        self.coef_ = np.random.rand(n_features)\n",
    "        self.intercept_ = np.zeros(1)\n",
    "    \n",
    "    def fit(self, X, y):\n",
    "        \n",
    "        X = np.array(X)\n",
    "        y = np.array(y)\n",
    "        \n",
    "        self._init_params(X)\n",
    "\n",
    "        for i in tqdm(range(self.n_iter)):\n",
    "            y_pred = self.predict_proba(X = X)\n",
    "            \n",
    "            grad_coef_ = -(y - y_pred).dot(X)\n",
    "            grad_intercept_ = -(y - y_pred).dot(np.ones(len(X)))\n",
    "            \n",
    "            self.coef_ -= self.learning_rate * grad_coef_\n",
    "            self.intercept_ -= self.learning_rate * grad_intercept_\n",
    "            \n",
    "            param_changes_ = np.abs(np.hstack((grad_coef_, grad_intercept_)))\n",
    "            param_ = np.abs(np.hstack((self.coef_, self.intercept_)))\n",
    "            if np.max(param_changes_)/np.max(param_) < self.epsilon:\n",
    "                break\n",
    "    \n",
    "    def predict_proba(self, X):\n",
    "        logits = np.dot(X, self.coef_) + self.intercept_\n",
    "        proba = self._sigmoid(logits)\n",
    "        \n",
    "        return proba\n",
    "    \n",
    "    def predict(self, X):\n",
    "        return (self.predict_proba(X) > 0.5).astype(\"int\")"
   ]
  },
  {
   "cell_type": "code",
   "execution_count": 48,
   "id": "eca63434",
   "metadata": {},
   "outputs": [
    {
     "data": {
      "image/png": "[encoded data removed]",
      "text/plain": [
       "<Figure size 640x480 with 1 Axes>"
      ]
     },
     "metadata": {},
     "output_type": "display_data"
    }
   ],
   "source": [
    "sns.scatterplot(data=data,\n",
    "                x=\"x1\",\n",
    "                y=\"x2\",\n",
    "                hue=\"y\")\n",
    "\n",
    "\n",
    "plt.xlim(-1, 2)\n",
    "plt.ylim(-1, 2)\n",
    "plt.show()"
   ]
  },
  {
   "cell_type": "code",
   "execution_count": 49,
   "id": "6628fd3b",
   "metadata": {},
   "outputs": [],
   "source": [
    "X = data[[\"x1\", \"x2\"]]\n",
    "y = data[\"y\"]"
   ]
  },
  {
   "cell_type": "code",
   "execution_count": 50,
   "id": "26fee390",
   "metadata": {},
   "outputs": [],
   "source": [
    "logreg = LogisticRegression(n_iter=50000)"
   ]
  },
  {
   "cell_type": "code",
   "execution_count": 51,
   "id": "cf72752e",
   "metadata": {},
   "outputs": [
    {
     "name": "stderr",
     "output_type": "stream",
     "text": [
      "100%|██████████████████████████████████| 50000/50000 [00:02<00:00, 18962.77it/s]\n"
     ]
    }
   ],
   "source": [
    "logreg.fit(X, y)"
   ]
  },
  {
   "cell_type": "code",
   "execution_count": 52,
   "id": "bc56d49a",
   "metadata": {},
   "outputs": [
    {
     "data": {
      "text/plain": [
       "(array([5.39862332, 5.41791394]), array([-2.20841453]))"
      ]
     },
     "execution_count": 52,
     "metadata": {},
     "output_type": "execute_result"
    }
   ],
   "source": [
    "w = logreg.coef_\n",
    "b = logreg.intercept_\n",
    "\n",
    "w, b"
   ]
  },
  {
   "cell_type": "code",
   "execution_count": 53,
   "id": "82b5f023",
   "metadata": {
    "scrolled": true
   },
   "outputs": [
    {
     "name": "stdout",
     "output_type": "stream",
     "text": [
      "Predict proba : \n",
      "[0.0989974  0.9611902  0.96046415 0.99981742]\n",
      "Prediction    : \n",
      "[0 1 1 1]\n"
     ]
    }
   ],
   "source": [
    "y_pred_proba = logreg.predict_proba(X)\n",
    "y_pred = logreg.predict(X)\n",
    "\n",
    "print(f\"Predict proba : \\n{y_pred_proba}\")\n",
    "print(f\"Prediction    : \\n{y_pred}\")"
   ]
  },
  {
   "cell_type": "code",
   "execution_count": 54,
   "id": "051a884f",
   "metadata": {},
   "outputs": [],
   "source": [
    "data[\"y_pred\"] = y_pred"
   ]
  },
  {
   "cell_type": "code",
   "execution_count": 55,
   "id": "25866f47",
   "metadata": {},
   "outputs": [
    {
     "data": {
      "text/html": [
       "<div>\n",
       "<style scoped>\n",
       "    .dataframe tbody tr th:only-of-type {\n",
       "        vertical-align: middle;\n",
       "    }\n",
       "\n",
       "    .dataframe tbody tr th {\n",
       "        vertical-align: top;\n",
       "    }\n",
       "\n",
       "    .dataframe thead th {\n",
       "        text-align: right;\n",
       "    }\n",
       "</style>\n",
       "<table border=\"1\" class=\"dataframe\">\n",
       "  <thead>\n",
       "    <tr style=\"text-align: right;\">\n",
       "      <th></th>\n",
       "      <th>x1</th>\n",
       "      <th>x2</th>\n",
       "      <th>y</th>\n",
       "      <th>y_pred</th>\n",
       "    </tr>\n",
       "  </thead>\n",
       "  <tbody>\n",
       "    <tr>\n",
       "      <th>0</th>\n",
       "      <td>0</td>\n",
       "      <td>0</td>\n",
       "      <td>0</td>\n",
       "      <td>0</td>\n",
       "    </tr>\n",
       "    <tr>\n",
       "      <th>1</th>\n",
       "      <td>0</td>\n",
       "      <td>1</td>\n",
       "      <td>1</td>\n",
       "      <td>1</td>\n",
       "    </tr>\n",
       "    <tr>\n",
       "      <th>2</th>\n",
       "      <td>1</td>\n",
       "      <td>0</td>\n",
       "      <td>1</td>\n",
       "      <td>1</td>\n",
       "    </tr>\n",
       "    <tr>\n",
       "      <th>3</th>\n",
       "      <td>1</td>\n",
       "      <td>1</td>\n",
       "      <td>1</td>\n",
       "      <td>1</td>\n",
       "    </tr>\n",
       "  </tbody>\n",
       "</table>\n",
       "</div>"
      ],
      "text/plain": [
       "   x1  x2  y  y_pred\n",
       "0   0   0  0       0\n",
       "1   0   1  1       1\n",
       "2   1   0  1       1\n",
       "3   1   1  1       1"
      ]
     },
     "execution_count": 55,
     "metadata": {},
     "output_type": "execute_result"
    }
   ],
   "source": [
    "data"
   ]
  },
  {
   "cell_type": "code",
   "execution_count": 56,
   "id": "f506e42a",
   "metadata": {},
   "outputs": [],
   "source": [
    "m = -w[0]/w[1]\n",
    "c = -b[0]/w[1]"
   ]
  },
  {
   "cell_type": "code",
   "execution_count": 57,
   "id": "975d96c8",
   "metadata": {},
   "outputs": [
    {
     "data": {
      "image/png": "[encoded data removed]",
      "text/plain": [
       "<Figure size 640x480 with 1 Axes>"
      ]
     },
     "metadata": {},
     "output_type": "display_data"
    }
   ],
   "source": [
    "sns.scatterplot(data=data,\n",
    "                x=\"x1\",\n",
    "                y=\"x2\",\n",
    "                hue=\"y\")\n",
    "\n",
    "\n",
    "x_support = np.linspace(-2, 2)\n",
    "y_support = m*x_support + c\n",
    "\n",
    "plt.plot(x_support, y_support, \"--r\")\n",
    "\n",
    "plt.show()"
   ]
  }
 ],
 "metadata": {
  "kernelspec": {
   "display_name": "Python 3 (ipykernel)",
   "language": "python",
   "name": "python3"
  },
  "language_info": {
   "codemirror_mode": {
    "name": "ipython",
    "version": 3
   },
   "file_extension": ".py",
   "mimetype": "text/x-python",
   "name": "python",
   "nbconvert_exporter": "python",
   "pygments_lexer": "ipython3",
   "version": "3.10.8"
  }
 },
 "nbformat": 4,
 "nbformat_minor": 5
}
