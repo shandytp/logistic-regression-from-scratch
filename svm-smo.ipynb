{
 "cells": [
  {
   "cell_type": "markdown",
   "id": "724ecf26",
   "metadata": {},
   "source": [
    "# SVM SMO "
   ]
  },
  {
   "cell_type": "code",
   "execution_count": 50,
   "id": "59023a82",
   "metadata": {},
   "outputs": [],
   "source": [
    "import pandas as pd\n",
    "import numpy as np\n",
    "import matplotlib.pyplot as plt\n",
    "import seaborn as sns"
   ]
  },
  {
   "cell_type": "code",
   "execution_count": 174,
   "id": "1efb8de2",
   "metadata": {},
   "outputs": [],
   "source": [
    "# versi shandy, banyak bug nya wkwkwk\n",
    "\n",
    "class SVC():\n",
    "    \n",
    "    def __init__(self,\n",
    "                 C = 1.0,\n",
    "                 max_passes = 10,\n",
    "                 tol = 1e-5):\n",
    "        \n",
    "        self.C = C\n",
    "        self.max_passes = max_passes\n",
    "        self.tol = tol\n",
    "        \n",
    "    def _init_params(self, X):\n",
    "        n_samples = X.shape[0]\n",
    "        self.alpha = np.zeros(n_samples)\n",
    "        self.b = 0\n",
    "        \n",
    "    def _calculate_w(self, X, y):\n",
    "        w = np.dot(X.T, self.alpha * y)\n",
    "        return w\n",
    "        \n",
    "    def _calculate_F(self, X_star, X, y):\n",
    "        \"\"\"using Eq.(2)\"\"\"\n",
    "        f_x = np.dot(self.alpha*y, np.dot(X, X_star.T)) + self.b\n",
    "        \n",
    "        return f_x\n",
    "    \n",
    "    def _calculate_E(self, X_star, y_star, X, y):\n",
    "        \"\"\"using Eq.(13)\"\"\"\n",
    "        # calculate f(x)\n",
    "        f_x = self._calculate_F(X_star, X, y)\n",
    "\n",
    "        E_i = f_x - y_star\n",
    "\n",
    "        return E_i\n",
    "    \n",
    "    def _generate_j(self, n, idx):\n",
    "        \"\"\"random sample dimana j!=idx\"\"\"\n",
    "        j = np.random.choice(n)\n",
    "        \n",
    "        while j == idx:\n",
    "            j = np.random.choice(n)\n",
    "            \n",
    "        return j\n",
    "    \n",
    "    def _calculate_boundaries(self, y_i, y_j, a_i, a_j):\n",
    "        \"\"\"\n",
    "        obtain the lower & upper boundary\n",
    "        using Eq. (10) & (11)\n",
    "        \"\"\"\n",
    "        if y_i != y_j:\n",
    "            L = max(0, a_j - a_i)\n",
    "            H = min(self.C, self.C + a_j - a_i)\n",
    "\n",
    "        else:\n",
    "            L = max(0, a_i + a_j - self.C)\n",
    "            H = min(self.C, a_i + a_j)\n",
    "\n",
    "        return L, H\n",
    "    \n",
    "    def _calculate_eta(self, X_i, X_j):\n",
    "        \"\"\"using Eq.(14)\"\"\"\n",
    "        eta = 2 * (np.dot(X_i, X_j)) \\\n",
    "        - (np.dot(X_i, X_i)) - (np.dot(X_j, X_j))\n",
    "\n",
    "        return eta\n",
    "    \n",
    "    def fit(self, X, y):\n",
    "        \n",
    "        X = np.array(X)\n",
    "        y = np.array(y)\n",
    "        n_samples = X.shape[0]\n",
    "        \n",
    "        self._init_params(X)\n",
    "        passes = 0\n",
    "\n",
    "        while (passes < self.max_passes):\n",
    "            num_changed_alphas = 0\n",
    "\n",
    "            for i in range(n_samples):\n",
    "                # extract data index i\n",
    "\n",
    "                X_i = X[i].copy()\n",
    "                y_i = y[i].copy()\n",
    "                a_i = self.alpha[i].copy()\n",
    "\n",
    "                # hitung E_i menggunakan persamaan (2)\n",
    "                E_i = self._calculate_E(X_star = X_i,\n",
    "                                        y_star = y_i,\n",
    "                                        X = X,\n",
    "                                        y = y)\n",
    "\n",
    "                cond_1 = (y_i*E_i < -self.tol).all() and (a_i < self.C).all()\n",
    "                cond_2 = (y_i*E_i > self.tol).all() and (a_i > 0).all()\n",
    "                \n",
    "                if cond_1 or cond_2:\n",
    "                    # pilih j secara random\n",
    "                    j = self._generate_j(n_samples, i)\n",
    "\n",
    "                    # extract data index j\n",
    "                    X_j = X[j].copy()\n",
    "                    y_j = y[j].copy()\n",
    "                    a_j = self.alpha[j].copy()\n",
    "\n",
    "                    # hitung E_j menggunaan persamaan (2)\n",
    "                    E_j = self._calculate_E(X_star = X_j,\n",
    "                                            y_star = y_j,\n",
    "                                            X = X,\n",
    "                                            y = y)\n",
    "\n",
    "                    # update alpha values\n",
    "                    a_i_old, a_j_old = a_i, a_j\n",
    "\n",
    "                    # hitung L dan H (upper and lower bound) menggunakan persamaan (10) dan (11)\n",
    "                    L, H = self._calculate_boundaries(y_i = y_i,\n",
    "                                                      y_j = y_j,\n",
    "                                                      a_i = a_i,\n",
    "                                                      a_j = a_j)\n",
    "\n",
    "                    # check boundaries condition\n",
    "                    if L == H:\n",
    "                        continue\n",
    "\n",
    "                    # calculate eta menggunakan persamaan (14)\n",
    "                    eta = self._calculate_eta(X_i = X_i,\n",
    "                                              X_j = X_j)\n",
    "\n",
    "                    # check eta condition\n",
    "                    if eta >= 0:\n",
    "                        continue\n",
    "\n",
    "                    # hitung dan clip new value dari a_j menggunakan (12) dan (15)\n",
    "                    a_j_unclipped = a_j_old - (y_j * (E_i - E_j)) / eta\n",
    "\n",
    "                    # condition to clip new value a_j\n",
    "                    if a_j_unclipped.all() > H:\n",
    "                        a_j_new = H\n",
    "\n",
    "                    elif L <= a_j_unclipped.all() and a_j_unclipped.all() <= H:\n",
    "                        a_j_new = a_j_unclipped\n",
    "                        \n",
    "                    else:\n",
    "                        a_j_new = L\n",
    "\n",
    "                    # cek kondisi nilai a_j dengan tol\n",
    "                    if np.abs(a_j_new - a_j_old).all() < tol:\n",
    "                        continue\n",
    "\n",
    "                    # determine value a_i menggunakan persamaan (16)\n",
    "                    a_i_new = a_i_old + y_i * y_j * (a_j_old - a_j)\n",
    "\n",
    "                    # compute b1 dan b2 menggunakan persamaan (17) dan (18)\n",
    "                    b1 = b - E_i \\\n",
    "                         - y_i * (a_i_new - a_i_old) * np.dot(X_i, X_i) \\\n",
    "                         - y_j * (a_j_new - a_j_old) * np.dot(X_i, X_j)\n",
    "\n",
    "                    b2 = b - E_j \\\n",
    "                         - y_i * (a_i_new - a_i_old) * np.dot(X_i, X_j) \\\n",
    "                         - y_j * (a_j_new - a_j_old) * np.dot(X_j, X_j)\n",
    "\n",
    "                    # compute b menggunakan persamaan (19)\n",
    "                    if 0 < a_i.all() and a_i.all() < self.C:\n",
    "                        b_new = b1\n",
    "\n",
    "                    elif 0 < a_j.all() and a_j.all() < self.C:\n",
    "                        b_new = b2\n",
    "\n",
    "                    else:\n",
    "                        b_new = (b1 + b2) / 2\n",
    "                        \n",
    "                    print(self.alpha[i])\n",
    "                    print(self.alpha[j])\n",
    "\n",
    "                    self.alpha[i] = a_i_new\n",
    "                    self.alpha[j] = a_j_new\n",
    "                    self.b = b_new\n",
    "\n",
    "                    num_changed_alphas += 1\n",
    "\n",
    "            if num_changed_alphas == 0:\n",
    "                passes += 1\n",
    "\n",
    "            else:\n",
    "                passes = 0\n",
    "\n",
    "        \n",
    "    def predict(self, X):\n",
    "        y_pred = np.dot(X, self.w) + b\n",
    "\n",
    "        \n",
    "        return np.sign((y_pred > 0).astype(int))"
   ]
  },
  {
   "cell_type": "code",
   "execution_count": 175,
   "id": "224d8023",
   "metadata": {},
   "outputs": [],
   "source": [
    "obj = SVC()"
   ]
  },
  {
   "cell_type": "code",
   "execution_count": 176,
   "id": "3e5a5934",
   "metadata": {},
   "outputs": [
    {
     "name": "stdout",
     "output_type": "stream",
     "text": [
      "0.0\n",
      "0.0\n",
      "0.0\n",
      "0.0\n"
     ]
    },
    {
     "ename": "ValueError",
     "evalue": "setting an array element with a sequence.",
     "output_type": "error",
     "traceback": [
      "\u001b[0;31m---------------------------------------------------------------------------\u001b[0m",
      "\u001b[0;31mTypeError\u001b[0m                                 Traceback (most recent call last)",
      "\u001b[0;31mTypeError\u001b[0m: only size-1 arrays can be converted to Python scalars",
      "\nThe above exception was the direct cause of the following exception:\n",
      "\u001b[0;31mValueError\u001b[0m                                Traceback (most recent call last)",
      "Cell \u001b[0;32mIn[176], line 1\u001b[0m\n\u001b[0;32m----> 1\u001b[0m \u001b[43mobj\u001b[49m\u001b[38;5;241;43m.\u001b[39;49m\u001b[43mfit\u001b[49m\u001b[43m(\u001b[49m\u001b[43mX\u001b[49m\u001b[43m,\u001b[49m\u001b[43m \u001b[49m\u001b[43my\u001b[49m\u001b[43m)\u001b[49m\n",
      "Cell \u001b[0;32mIn[174], line 169\u001b[0m, in \u001b[0;36mSVC.fit\u001b[0;34m(self, X, y)\u001b[0m\n\u001b[1;32m    166\u001b[0m \u001b[38;5;28mprint\u001b[39m(\u001b[38;5;28mself\u001b[39m\u001b[38;5;241m.\u001b[39malpha[j])\n\u001b[1;32m    168\u001b[0m \u001b[38;5;28mself\u001b[39m\u001b[38;5;241m.\u001b[39malpha[i] \u001b[38;5;241m=\u001b[39m a_i_new\n\u001b[0;32m--> 169\u001b[0m \u001b[38;5;28;43mself\u001b[39;49m\u001b[38;5;241;43m.\u001b[39;49m\u001b[43malpha\u001b[49m\u001b[43m[\u001b[49m\u001b[43mj\u001b[49m\u001b[43m]\u001b[49m \u001b[38;5;241m=\u001b[39m a_j_new\n\u001b[1;32m    170\u001b[0m \u001b[38;5;28mself\u001b[39m\u001b[38;5;241m.\u001b[39mb \u001b[38;5;241m=\u001b[39m b_new\n\u001b[1;32m    172\u001b[0m num_changed_alphas \u001b[38;5;241m+\u001b[39m\u001b[38;5;241m=\u001b[39m \u001b[38;5;241m1\u001b[39m\n",
      "\u001b[0;31mValueError\u001b[0m: setting an array element with a sequence."
     ]
    }
   ],
   "source": [
    "obj.fit(X, y)"
   ]
  },
  {
   "cell_type": "code",
   "execution_count": 123,
   "id": "5394b6ab",
   "metadata": {},
   "outputs": [],
   "source": [
    "for i in range(len(X)):\n",
    "    j = np.random.choice(len(X))\n",
    "    \n",
    "    if j == i:\n",
    "        print(f\"lah kok sama {j} and {i}\")"
   ]
  },
  {
   "cell_type": "code",
   "execution_count": 124,
   "id": "9fdeb3d9",
   "metadata": {},
   "outputs": [],
   "source": [
    "c = []\n",
    "for i in range(len(X)):\n",
    "    a = obj._generate_j(len(X), i)\n",
    "    c.append(a)"
   ]
  },
  {
   "cell_type": "code",
   "execution_count": 125,
   "id": "a15b7f3e",
   "metadata": {},
   "outputs": [
    {
     "data": {
      "text/plain": [
       "[1, 2, 1, 1]"
      ]
     },
     "execution_count": 125,
     "metadata": {},
     "output_type": "execute_result"
    }
   ],
   "source": [
    "c"
   ]
  },
  {
   "cell_type": "code",
   "execution_count": 55,
   "id": "8bc0baab",
   "metadata": {},
   "outputs": [],
   "source": [
    "def calculate_F(X_star, X, y, alpha, b):\n",
    "    w = calculate_w(alpha, X, y)\n",
    "    \n",
    "    f_x = np.dot(X_star, w) + b\n",
    "    \n",
    "    return f_x\n",
    "    \n",
    "    \n",
    "    \n",
    "#     result = []\n",
    "#     n_samples = X.shape[0]\n",
    "    \n",
    "#     for i in range(n_samples):\n",
    "#         E = alpha[i] * y[i] * np.dot(X[i], X_star)\n",
    "#         result.append(E)\n",
    "        \n",
    "#     f_x = np.sum(result) + b\n",
    "    \n",
    "#     return f_x"
   ]
  },
  {
   "cell_type": "code",
   "execution_count": 56,
   "id": "9c8ce4eb",
   "metadata": {},
   "outputs": [],
   "source": [
    "def calculate_E(X_star, y_star, X, y, alpha, b):\n",
    "    # calculate f(x)\n",
    "    f_x = calculate_F(X_star, X, y, alpha, b)\n",
    "    \n",
    "    E_i = f_x - y_star\n",
    "    \n",
    "    return E_i"
   ]
  },
  {
   "cell_type": "code",
   "execution_count": 57,
   "id": "e29ca059",
   "metadata": {},
   "outputs": [],
   "source": [
    "def generate_j(n_samples, i_idx):\n",
    "    \n",
    "    j = np.random.choice(n_samples)\n",
    "    \n",
    "    if j != i_idx:\n",
    "        return j\n",
    "    \n",
    "    else:\n",
    "        generate_j(n_samples, i_idx)"
   ]
  },
  {
   "cell_type": "code",
   "execution_count": 58,
   "id": "5465dcaf",
   "metadata": {},
   "outputs": [],
   "source": [
    "def calculate_boundaries(y_i, y_j, a_i, a_j, C):\n",
    "    \n",
    "    if y_i != y_j:\n",
    "        L = max(0, a_j - a_i)\n",
    "        H = min(C, C + a_j - a_i)\n",
    "        \n",
    "    else:\n",
    "        L = max(0, a_i + a_j - C)\n",
    "        H = min(C, a_i + a_j)\n",
    "        \n",
    "    return L, H"
   ]
  },
  {
   "cell_type": "code",
   "execution_count": 59,
   "id": "4c52c2be",
   "metadata": {},
   "outputs": [],
   "source": [
    "def calculate_eta(X_i, X_j):\n",
    "    eta = 2 * (np.dot(X_i, X_j)) \\\n",
    "    - (np.dot(X_i, X_i)) - (np.dot(X_j, X_j))\n",
    "    \n",
    "    return eta"
   ]
  },
  {
   "cell_type": "code",
   "execution_count": 60,
   "id": "3dc27024",
   "metadata": {},
   "outputs": [],
   "source": [
    "def fit(X, y, max_passes, C, tol):\n",
    "    \n",
    "    n_samples = X.shape[0]\n",
    "    alpha = np.zeros(n_samples)\n",
    "    b = 0\n",
    "    passes = 0\n",
    "    \n",
    "    while passes < max_passes:\n",
    "        num_changed_alphas = 0\n",
    "\n",
    "        for i in range(n_samples):\n",
    "            # extract data index i\n",
    "\n",
    "            X_i = X[i].copy()\n",
    "            y_i = y[i].copy()\n",
    "            a_i = alpha[i].copy()\n",
    "\n",
    "            # hitung E_i menggunakan persamaan (2)\n",
    "            E_i = calculate_E(X_star = X_i,\n",
    "                              y_star = y_i,\n",
    "                              X = X,\n",
    "                              y = y,\n",
    "                              alpha = alpha,\n",
    "                              b = b)\n",
    "\n",
    "            cond_1 = ((y_i * E_i) < -tol) and (a_i < C)\n",
    "            cond_2 = ((y_i * E_i) > tol) and (a_i > 0)\n",
    "\n",
    "            if cond_1 or cond_2:\n",
    "                # pilih j secara random\n",
    "                j = generate_j(n_samples = n_samples,\n",
    "                               i_idx = i)\n",
    "\n",
    "                # extract data index j\n",
    "                X_j = X[j].copy()\n",
    "                y_j = y[j].copy()\n",
    "                a_j = alpha[j].copy()\n",
    "\n",
    "                # hitung E_j menggunaan persamaan (2)\n",
    "                E_j = calculate_E(X_star = X_j,\n",
    "                                  y_star = y_j,\n",
    "                                  X = X,\n",
    "                                  y = y,\n",
    "                                  alpha = alpha,\n",
    "                                  b = b)\n",
    "\n",
    "                # update alpha values\n",
    "                a_i_old = a_i\n",
    "                a_j_old = a_j\n",
    "                \n",
    "                print(y_i)\n",
    "                print(y_j)\n",
    "\n",
    "                # hitung L dan H (upper and lower bound) menggunakan persamaan (10) dan (11)\n",
    "                L, H = calculate_boundaries(y_i = y_i,\n",
    "                                            y_j = y_j,\n",
    "                                            a_i = a_i,\n",
    "                                            a_j = a_j,\n",
    "                                            C = C)\n",
    "\n",
    "                # check boundaries condition\n",
    "                if L == H:\n",
    "                    continue\n",
    "\n",
    "                # calculate eta menggunakan persamaan (14)\n",
    "                eta = calculate_eta(X_i = X_i,\n",
    "                                    X_j = X_j)\n",
    "\n",
    "                # check eta condition\n",
    "                if eta >= 0:\n",
    "                    continue\n",
    "\n",
    "                # hitung dan clip new value dari a_j menggunakan (12) dan (15)\n",
    "                a_j -= (y_j * (E_i - E_j)) / eta\n",
    "\n",
    "                # condition to clip new value a_j\n",
    "                if a_j > H:\n",
    "                    a_j = H\n",
    "\n",
    "                elif L <= a_j and a_j <= H:\n",
    "                    a_j = a_j\n",
    "\n",
    "                else:\n",
    "                    a_j = L\n",
    "\n",
    "                # cek kondisi nilai a_j dengan tol\n",
    "                if np.abs(a_j - a_j_old) < tol:\n",
    "                    continue\n",
    "\n",
    "                # determine value a_i menggunakan persamaan (16)\n",
    "                a_i += y_i * y_j * (a_j_old - a_j)\n",
    "\n",
    "                # compute b1 dan b2 menggunakan persamaan (17) dan (18)\n",
    "                b1 = b - E_i \\\n",
    "                     - y_i * (a_i - a_i_old) * np.dot(X_i, X_i) \\\n",
    "                     - y_j * (a_j - a_j_old) * np.dot(X_i, X_j)\n",
    "\n",
    "                b2 = b - E_j \\\n",
    "                     - y_i * (a_i - a_i_old) * np.dot(X_i, X_j) \\\n",
    "                     - y_j * (a_j - a_j_old) * np.dot(X_j, X_j)\n",
    "\n",
    "                # compute b menggunakan persamaan (19)\n",
    "                if 0 < a_i and a_i < C:\n",
    "                    b = b1\n",
    "\n",
    "                elif 0 < a_j and a_j < C:\n",
    "                    b = b2\n",
    "\n",
    "                else:\n",
    "                    b = (b1 + b2) / 2\n",
    "\n",
    "                alpha[i] = a_i\n",
    "                alpha[j] = a_j\n",
    "\n",
    "                num_changed_alphas += 1\n",
    "\n",
    "        if num_changed_alphas == 0:\n",
    "            passes += 1\n",
    "\n",
    "        else:\n",
    "            passes = 0\n",
    "            \n",
    "    return alpha, b"
   ]
  },
  {
   "cell_type": "code",
   "execution_count": 61,
   "id": "053a550d",
   "metadata": {},
   "outputs": [],
   "source": [
    "def calculate_w(alpha, X, y):\n",
    "    w = np.dot(X.T, alpha * y)\n",
    "    \n",
    "    return w"
   ]
  },
  {
   "cell_type": "code",
   "execution_count": 62,
   "id": "a4f21242",
   "metadata": {},
   "outputs": [],
   "source": [
    "def predict(X, w, b):\n",
    "    y_pred = np.dot(X, w) + b\n",
    "    \n",
    "    return np.sign((y_pred > 0).astype(int))"
   ]
  },
  {
   "cell_type": "code",
   "execution_count": 63,
   "id": "4f2fa5d3",
   "metadata": {},
   "outputs": [],
   "source": [
    "data_dict = {\n",
    "    \"x1\": [0, 0, 1, 1],\n",
    "    \"x2\": [0, 1, 0, 1],\n",
    "    \"y\": [-1, 1, 1, 1]\n",
    "}"
   ]
  },
  {
   "cell_type": "code",
   "execution_count": 64,
   "id": "28577f80",
   "metadata": {},
   "outputs": [],
   "source": [
    "data = pd.DataFrame(data = data_dict)"
   ]
  },
  {
   "cell_type": "code",
   "execution_count": 65,
   "id": "1c9da879",
   "metadata": {},
   "outputs": [
    {
     "data": {
      "text/html": [
       "<div>\n",
       "<style scoped>\n",
       "    .dataframe tbody tr th:only-of-type {\n",
       "        vertical-align: middle;\n",
       "    }\n",
       "\n",
       "    .dataframe tbody tr th {\n",
       "        vertical-align: top;\n",
       "    }\n",
       "\n",
       "    .dataframe thead th {\n",
       "        text-align: right;\n",
       "    }\n",
       "</style>\n",
       "<table border=\"1\" class=\"dataframe\">\n",
       "  <thead>\n",
       "    <tr style=\"text-align: right;\">\n",
       "      <th></th>\n",
       "      <th>x1</th>\n",
       "      <th>x2</th>\n",
       "      <th>y</th>\n",
       "    </tr>\n",
       "  </thead>\n",
       "  <tbody>\n",
       "    <tr>\n",
       "      <th>0</th>\n",
       "      <td>0</td>\n",
       "      <td>0</td>\n",
       "      <td>-1</td>\n",
       "    </tr>\n",
       "    <tr>\n",
       "      <th>1</th>\n",
       "      <td>0</td>\n",
       "      <td>1</td>\n",
       "      <td>1</td>\n",
       "    </tr>\n",
       "    <tr>\n",
       "      <th>2</th>\n",
       "      <td>1</td>\n",
       "      <td>0</td>\n",
       "      <td>1</td>\n",
       "    </tr>\n",
       "    <tr>\n",
       "      <th>3</th>\n",
       "      <td>1</td>\n",
       "      <td>1</td>\n",
       "      <td>1</td>\n",
       "    </tr>\n",
       "  </tbody>\n",
       "</table>\n",
       "</div>"
      ],
      "text/plain": [
       "   x1  x2  y\n",
       "0   0   0 -1\n",
       "1   0   1  1\n",
       "2   1   0  1\n",
       "3   1   1  1"
      ]
     },
     "execution_count": 65,
     "metadata": {},
     "output_type": "execute_result"
    }
   ],
   "source": [
    "data"
   ]
  },
  {
   "cell_type": "code",
   "execution_count": 66,
   "id": "17c95db1",
   "metadata": {},
   "outputs": [
    {
     "data": {
      "text/plain": [
       "array([[0, 0],\n",
       "       [0, 1],\n",
       "       [1, 0],\n",
       "       [1, 1]])"
      ]
     },
     "execution_count": 66,
     "metadata": {},
     "output_type": "execute_result"
    }
   ],
   "source": [
    "X = np.array(data[[\"x1\", \"x2\"]])\n",
    "X"
   ]
  },
  {
   "cell_type": "code",
   "execution_count": 67,
   "id": "b2aad002",
   "metadata": {},
   "outputs": [
    {
     "data": {
      "text/plain": [
       "array([-1,  1,  1,  1])"
      ]
     },
     "execution_count": 67,
     "metadata": {},
     "output_type": "execute_result"
    }
   ],
   "source": [
    "y = np.array(data[\"y\"])\n",
    "y"
   ]
  },
  {
   "cell_type": "code",
   "execution_count": 68,
   "id": "1390bb49",
   "metadata": {},
   "outputs": [],
   "source": [
    "C = 1\n",
    "tol = 1e-5\n",
    "max_passes = 10"
   ]
  },
  {
   "cell_type": "code",
   "execution_count": 69,
   "id": "01cc237b",
   "metadata": {},
   "outputs": [
    {
     "name": "stdout",
     "output_type": "stream",
     "text": [
      "-1\n",
      "1\n",
      "1\n",
      "-1\n",
      "1\n",
      "[[-1  1  1  1]]\n"
     ]
    },
    {
     "ename": "ValueError",
     "evalue": "The truth value of an array with more than one element is ambiguous. Use a.any() or a.all()",
     "output_type": "error",
     "traceback": [
      "\u001b[0;31m---------------------------------------------------------------------------\u001b[0m",
      "\u001b[0;31mValueError\u001b[0m                                Traceback (most recent call last)",
      "Cell \u001b[0;32mIn[69], line 1\u001b[0m\n\u001b[0;32m----> 1\u001b[0m alpha, b \u001b[38;5;241m=\u001b[39m \u001b[43mfit\u001b[49m\u001b[43m(\u001b[49m\u001b[43mX\u001b[49m\u001b[43m \u001b[49m\u001b[38;5;241;43m=\u001b[39;49m\u001b[43m \u001b[49m\u001b[43mX\u001b[49m\u001b[43m,\u001b[49m\n\u001b[1;32m      2\u001b[0m \u001b[43m               \u001b[49m\u001b[43my\u001b[49m\u001b[43m \u001b[49m\u001b[38;5;241;43m=\u001b[39;49m\u001b[43m \u001b[49m\u001b[43my\u001b[49m\u001b[43m,\u001b[49m\n\u001b[1;32m      3\u001b[0m \u001b[43m               \u001b[49m\u001b[43mmax_passes\u001b[49m\u001b[43m \u001b[49m\u001b[38;5;241;43m=\u001b[39;49m\u001b[43m \u001b[49m\u001b[43mmax_passes\u001b[49m\u001b[43m,\u001b[49m\n\u001b[1;32m      4\u001b[0m \u001b[43m               \u001b[49m\u001b[43mC\u001b[49m\u001b[43m \u001b[49m\u001b[38;5;241;43m=\u001b[39;49m\u001b[43m \u001b[49m\u001b[43mC\u001b[49m\u001b[43m,\u001b[49m\n\u001b[1;32m      5\u001b[0m \u001b[43m               \u001b[49m\u001b[43mtol\u001b[49m\u001b[43m \u001b[49m\u001b[38;5;241;43m=\u001b[39;49m\u001b[43m \u001b[49m\u001b[43mtol\u001b[49m\u001b[43m)\u001b[49m\n",
      "Cell \u001b[0;32mIn[60], line 55\u001b[0m, in \u001b[0;36mfit\u001b[0;34m(X, y, max_passes, C, tol)\u001b[0m\n\u001b[1;32m     52\u001b[0m \u001b[38;5;28mprint\u001b[39m(y_j)\n\u001b[1;32m     54\u001b[0m \u001b[38;5;66;03m# hitung L dan H (upper and lower bound) menggunakan persamaan (10) dan (11)\u001b[39;00m\n\u001b[0;32m---> 55\u001b[0m L, H \u001b[38;5;241m=\u001b[39m \u001b[43mcalculate_boundaries\u001b[49m\u001b[43m(\u001b[49m\u001b[43my_i\u001b[49m\u001b[43m \u001b[49m\u001b[38;5;241;43m=\u001b[39;49m\u001b[43m \u001b[49m\u001b[43my_i\u001b[49m\u001b[43m,\u001b[49m\n\u001b[1;32m     56\u001b[0m \u001b[43m                            \u001b[49m\u001b[43my_j\u001b[49m\u001b[43m \u001b[49m\u001b[38;5;241;43m=\u001b[39;49m\u001b[43m \u001b[49m\u001b[43my_j\u001b[49m\u001b[43m,\u001b[49m\n\u001b[1;32m     57\u001b[0m \u001b[43m                            \u001b[49m\u001b[43ma_i\u001b[49m\u001b[43m \u001b[49m\u001b[38;5;241;43m=\u001b[39;49m\u001b[43m \u001b[49m\u001b[43ma_i\u001b[49m\u001b[43m,\u001b[49m\n\u001b[1;32m     58\u001b[0m \u001b[43m                            \u001b[49m\u001b[43ma_j\u001b[49m\u001b[43m \u001b[49m\u001b[38;5;241;43m=\u001b[39;49m\u001b[43m \u001b[49m\u001b[43ma_j\u001b[49m\u001b[43m,\u001b[49m\n\u001b[1;32m     59\u001b[0m \u001b[43m                            \u001b[49m\u001b[43mC\u001b[49m\u001b[43m \u001b[49m\u001b[38;5;241;43m=\u001b[39;49m\u001b[43m \u001b[49m\u001b[43mC\u001b[49m\u001b[43m)\u001b[49m\n\u001b[1;32m     61\u001b[0m \u001b[38;5;66;03m# check boundaries condition\u001b[39;00m\n\u001b[1;32m     62\u001b[0m \u001b[38;5;28;01mif\u001b[39;00m L \u001b[38;5;241m==\u001b[39m H:\n",
      "Cell \u001b[0;32mIn[58], line 3\u001b[0m, in \u001b[0;36mcalculate_boundaries\u001b[0;34m(y_i, y_j, a_i, a_j, C)\u001b[0m\n\u001b[1;32m      1\u001b[0m \u001b[38;5;28;01mdef\u001b[39;00m \u001b[38;5;21mcalculate_boundaries\u001b[39m(y_i, y_j, a_i, a_j, C):\n\u001b[0;32m----> 3\u001b[0m     \u001b[38;5;28;01mif\u001b[39;00m y_i \u001b[38;5;241m!=\u001b[39m y_j:\n\u001b[1;32m      4\u001b[0m         L \u001b[38;5;241m=\u001b[39m \u001b[38;5;28mmax\u001b[39m(\u001b[38;5;241m0\u001b[39m, a_j \u001b[38;5;241m-\u001b[39m a_i)\n\u001b[1;32m      5\u001b[0m         H \u001b[38;5;241m=\u001b[39m \u001b[38;5;28mmin\u001b[39m(C, C \u001b[38;5;241m+\u001b[39m a_j \u001b[38;5;241m-\u001b[39m a_i)\n",
      "\u001b[0;31mValueError\u001b[0m: The truth value of an array with more than one element is ambiguous. Use a.any() or a.all()"
     ]
    }
   ],
   "source": [
    "alpha, b = fit(X = X,\n",
    "               y = y,\n",
    "               max_passes = max_passes,\n",
    "               C = C,\n",
    "               tol = tol)"
   ]
  },
  {
   "cell_type": "code",
   "execution_count": 70,
   "id": "1a4ea410",
   "metadata": {},
   "outputs": [
    {
     "data": {
      "text/plain": [
       "array([1. , 0.5, 0.5, 0. ])"
      ]
     },
     "execution_count": 70,
     "metadata": {},
     "output_type": "execute_result"
    }
   ],
   "source": [
    "alpha"
   ]
  },
  {
   "cell_type": "code",
   "execution_count": 71,
   "id": "f0b7f972",
   "metadata": {},
   "outputs": [
    {
     "data": {
      "text/plain": [
       "0.5"
      ]
     },
     "execution_count": 71,
     "metadata": {},
     "output_type": "execute_result"
    }
   ],
   "source": [
    "b"
   ]
  },
  {
   "cell_type": "code",
   "execution_count": 72,
   "id": "1e953042",
   "metadata": {
    "scrolled": true
   },
   "outputs": [
    {
     "data": {
      "text/plain": [
       "array([0.5, 0.5])"
      ]
     },
     "execution_count": 72,
     "metadata": {},
     "output_type": "execute_result"
    }
   ],
   "source": [
    "w = calculate_w(alpha = alpha,\n",
    "                X = X, \n",
    "                y = y)\n",
    "\n",
    "w"
   ]
  },
  {
   "cell_type": "code",
   "execution_count": 38,
   "id": "f5df13c3",
   "metadata": {},
   "outputs": [
    {
     "data": {
      "text/plain": [
       "array([1, 1, 1, 1])"
      ]
     },
     "execution_count": 38,
     "metadata": {},
     "output_type": "execute_result"
    }
   ],
   "source": [
    "predict(X = X,\n",
    "        w = w,\n",
    "        b = b)"
   ]
  },
  {
   "cell_type": "code",
   "execution_count": 41,
   "id": "ce7f2dec",
   "metadata": {},
   "outputs": [],
   "source": [
    "m = -w[0]/w[1]\n",
    "c = -b/w[1]"
   ]
  },
  {
   "cell_type": "code",
   "execution_count": 42,
   "id": "45921de4",
   "metadata": {
    "scrolled": false
   },
   "outputs": [
    {
     "data": {
      "image/png": "[encoded data removed]",
      "text/plain": [
       "<Figure size 640x480 with 1 Axes>"
      ]
     },
     "metadata": {},
     "output_type": "display_data"
    }
   ],
   "source": [
    "sns.scatterplot(data=data,\n",
    "                x=\"x1\",\n",
    "                y=\"x2\",\n",
    "                hue=\"y\")\n",
    "\n",
    "\n",
    "x_support = np.linspace(-2, 2)\n",
    "y_support = m*x_support + c\n",
    "\n",
    "plt.plot(x_support, y_support, \"--r\")\n",
    "\n",
    "plt.show()"
   ]
  }
 ],
 "metadata": {
  "kernelspec": {
   "display_name": "Python 3 (ipykernel)",
   "language": "python",
   "name": "python3"
  },
  "language_info": {
   "codemirror_mode": {
    "name": "ipython",
    "version": 3
   },
   "file_extension": ".py",
   "mimetype": "text/x-python",
   "name": "python",
   "nbconvert_exporter": "python",
   "pygments_lexer": "ipython3",
   "version": "3.10.8"
  }
 },
 "nbformat": 4,
 "nbformat_minor": 5
}
