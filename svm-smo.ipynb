{
 "cells": [
  {
   "cell_type": "code",
   "execution_count": 16,
   "id": "59023a82",
   "metadata": {},
   "outputs": [],
   "source": [
    "import pandas as pd\n",
    "import numpy as np\n",
    "import matplotlib.pyplot as plt\n",
    "import seaborn as sns"
   ]
  },
  {
   "cell_type": "code",
   "execution_count": 17,
   "id": "8bc0baab",
   "metadata": {},
   "outputs": [],
   "source": [
    "def calculate_F(X_star, X, y, alpha, b):\n",
    "    result = []\n",
    "    n_samples = X.shape[0]\n",
    "    \n",
    "    for i in range(n_samples):\n",
    "        E = alpha[i] * y[i] * np.dot(X[i], X_star)\n",
    "        result.append(E)\n",
    "        \n",
    "    f_x = np.sum(result) + b\n",
    "    \n",
    "    return f_x"
   ]
  },
  {
   "cell_type": "code",
   "execution_count": 18,
   "id": "9c8ce4eb",
   "metadata": {},
   "outputs": [],
   "source": [
    "def calculate_E(X_star, y_star, X, y, alpha, b):\n",
    "    # calculate f(x)\n",
    "    f_x = calculate_F(X_star, X, y, alpha, b)\n",
    "    \n",
    "    E_i = f_x - y_star\n",
    "    \n",
    "    return E_i"
   ]
  },
  {
   "cell_type": "code",
   "execution_count": 19,
   "id": "e29ca059",
   "metadata": {},
   "outputs": [],
   "source": [
    "def generate_j(n_samples, i_idx):\n",
    "    \n",
    "    j = np.random.choice(n_samples)\n",
    "    \n",
    "    if j != i_idx:\n",
    "        return j\n",
    "    \n",
    "    else:\n",
    "        generate_j(n_samples, i_idx)"
   ]
  },
  {
   "cell_type": "code",
   "execution_count": 20,
   "id": "5465dcaf",
   "metadata": {},
   "outputs": [],
   "source": [
    "def calculate_boundaries(y_i, y_j, a_i, a_j, C):\n",
    "    \n",
    "    if y_i != y_j:\n",
    "        L = max(0, a_j - a_i)\n",
    "        H = min(C, C + a_j - a_i)\n",
    "        \n",
    "    else:\n",
    "        L = max(0, a_i + a_j - C)\n",
    "        H = min(C, a_i + a_j)\n",
    "        \n",
    "    return L, H"
   ]
  },
  {
   "cell_type": "code",
   "execution_count": 21,
   "id": "4c52c2be",
   "metadata": {},
   "outputs": [],
   "source": [
    "def calculate_eta(X_i, X_j):\n",
    "    eta = 2 * (np.dot(X_i, X_j)) \\\n",
    "    - (np.dot(X_i, X_i)) - (np.dot(X_j, X_j))\n",
    "    \n",
    "    return eta"
   ]
  },
  {
   "cell_type": "code",
   "execution_count": 22,
   "id": "4f2fa5d3",
   "metadata": {},
   "outputs": [],
   "source": [
    "data_dict = {\n",
    "    \"x1\": [0, 0, 1, 1],\n",
    "    \"x2\": [0, 1, 0, 1],\n",
    "    \"y\": [-1, 1, 1, 1]\n",
    "}"
   ]
  },
  {
   "cell_type": "code",
   "execution_count": 23,
   "id": "28577f80",
   "metadata": {},
   "outputs": [],
   "source": [
    "data = pd.DataFrame(data = data_dict)"
   ]
  },
  {
   "cell_type": "code",
   "execution_count": 24,
   "id": "1c9da879",
   "metadata": {},
   "outputs": [
    {
     "data": {
      "text/html": [
       "<div>\n",
       "<style scoped>\n",
       "    .dataframe tbody tr th:only-of-type {\n",
       "        vertical-align: middle;\n",
       "    }\n",
       "\n",
       "    .dataframe tbody tr th {\n",
       "        vertical-align: top;\n",
       "    }\n",
       "\n",
       "    .dataframe thead th {\n",
       "        text-align: right;\n",
       "    }\n",
       "</style>\n",
       "<table border=\"1\" class=\"dataframe\">\n",
       "  <thead>\n",
       "    <tr style=\"text-align: right;\">\n",
       "      <th></th>\n",
       "      <th>x1</th>\n",
       "      <th>x2</th>\n",
       "      <th>y</th>\n",
       "    </tr>\n",
       "  </thead>\n",
       "  <tbody>\n",
       "    <tr>\n",
       "      <th>0</th>\n",
       "      <td>0</td>\n",
       "      <td>0</td>\n",
       "      <td>-1</td>\n",
       "    </tr>\n",
       "    <tr>\n",
       "      <th>1</th>\n",
       "      <td>0</td>\n",
       "      <td>1</td>\n",
       "      <td>1</td>\n",
       "    </tr>\n",
       "    <tr>\n",
       "      <th>2</th>\n",
       "      <td>1</td>\n",
       "      <td>0</td>\n",
       "      <td>1</td>\n",
       "    </tr>\n",
       "    <tr>\n",
       "      <th>3</th>\n",
       "      <td>1</td>\n",
       "      <td>1</td>\n",
       "      <td>1</td>\n",
       "    </tr>\n",
       "  </tbody>\n",
       "</table>\n",
       "</div>"
      ],
      "text/plain": [
       "   x1  x2  y\n",
       "0   0   0 -1\n",
       "1   0   1  1\n",
       "2   1   0  1\n",
       "3   1   1  1"
      ]
     },
     "execution_count": 24,
     "metadata": {},
     "output_type": "execute_result"
    }
   ],
   "source": [
    "data"
   ]
  },
  {
   "cell_type": "code",
   "execution_count": 25,
   "id": "17c95db1",
   "metadata": {},
   "outputs": [
    {
     "data": {
      "text/plain": [
       "array([[0, 0],\n",
       "       [0, 1],\n",
       "       [1, 0],\n",
       "       [1, 1]])"
      ]
     },
     "execution_count": 25,
     "metadata": {},
     "output_type": "execute_result"
    }
   ],
   "source": [
    "X = np.array(data[[\"x1\", \"x2\"]])\n",
    "X"
   ]
  },
  {
   "cell_type": "code",
   "execution_count": 26,
   "id": "b2aad002",
   "metadata": {},
   "outputs": [
    {
     "data": {
      "text/plain": [
       "array([-1,  1,  1,  1])"
      ]
     },
     "execution_count": 26,
     "metadata": {},
     "output_type": "execute_result"
    }
   ],
   "source": [
    "y = np.array(data[\"y\"])\n",
    "y"
   ]
  },
  {
   "cell_type": "code",
   "execution_count": 27,
   "id": "1390bb49",
   "metadata": {},
   "outputs": [],
   "source": [
    "C = 0.1\n",
    "tol = 1e-6\n",
    "max_passes = 10"
   ]
  },
  {
   "cell_type": "code",
   "execution_count": 34,
   "id": "4f2871e8",
   "metadata": {},
   "outputs": [
    {
     "data": {
      "text/plain": [
       "4"
      ]
     },
     "execution_count": 34,
     "metadata": {},
     "output_type": "execute_result"
    }
   ],
   "source": [
    "len(X)"
   ]
  },
  {
   "cell_type": "code",
   "execution_count": 35,
   "id": "cb08ace9",
   "metadata": {},
   "outputs": [
    {
     "data": {
      "text/plain": [
       "4"
      ]
     },
     "execution_count": 35,
     "metadata": {},
     "output_type": "execute_result"
    }
   ],
   "source": [
    "X.shape[0]"
   ]
  },
  {
   "cell_type": "code",
   "execution_count": 28,
   "id": "6243aee9",
   "metadata": {},
   "outputs": [],
   "source": [
    "n_samples = X.shape[0]\n",
    "alpha = np.zeros(n_samples)\n",
    "b = 0\n",
    "passes = 0"
   ]
  },
  {
   "cell_type": "code",
   "execution_count": 31,
   "id": "c00f319a",
   "metadata": {},
   "outputs": [],
   "source": [
    "while passes < max_passes:\n",
    "    num_changed_alphas = 0\n",
    "    \n",
    "    for i in range(n_samples):\n",
    "        # extract data index i\n",
    "        \n",
    "        X_i = X[i]\n",
    "        y_i = y[i]\n",
    "        a_i = alpha[i]\n",
    "        \n",
    "        # hitung E_i menggunakan persamaan (2)\n",
    "        E_i = calculate_E(X_star = X_i,\n",
    "                          y_star = y_i,\n",
    "                          X = X,\n",
    "                          y = y,\n",
    "                          alpha = alpha,\n",
    "                          b = b)\n",
    "        \n",
    "        cond_1 = ((y_i * E_i) < -tol) and (a_i < C)\n",
    "        cond_2 = ((y_i * E_i) > tol) and (a_i > 0)\n",
    "        \n",
    "        if cond_1 or cond_2:\n",
    "            # pilih j secara random\n",
    "            j = generate_j(n_samples = n_samples,\n",
    "                           i_idx = i)\n",
    "            \n",
    "            # extract data index j\n",
    "            X_j = X[j]\n",
    "            y_j = y[j]\n",
    "            a_j = alpha[j]\n",
    "            \n",
    "            # hitung E_j menggunaan persamaan (2)\n",
    "            E_j = calculate_E(X_star = X_j,\n",
    "                              y_star = y_j,\n",
    "                              X = X,\n",
    "                              y = y,\n",
    "                              alpha = alpha,\n",
    "                              b = b)\n",
    "            \n",
    "            # update alpha values\n",
    "            a_i_old = a_i\n",
    "            a_j_old = a_j\n",
    "            \n",
    "            # hitung L dan H (upper and lower bound) menggunakan persamaan (10) dan (11)\n",
    "            L, H = calculate_boundaries(y_i = y_i,\n",
    "                                        y_j = y_j,\n",
    "                                        a_i = a_i,\n",
    "                                        a_j = a_j,\n",
    "                                        C = C)\n",
    "            \n",
    "            # check boundaries condition\n",
    "            if L == H:\n",
    "                continue\n",
    "                \n",
    "            # calculate eta menggunakan persamaan (14)\n",
    "            eta = calculate_eta(X_i = X_i,\n",
    "                                X_j = X_j)\n",
    "            \n",
    "            # check eta condition\n",
    "            if eta >= 0:\n",
    "                continue\n",
    "                \n",
    "            # hitung dan clip new value dari a_j menggunakan (12) dan (15)\n",
    "            a_j -= (y_j * (E_i - E_j)) / eta\n",
    "            \n",
    "            # condition to clip new value a_j\n",
    "            if a_j > H:\n",
    "                a_j = H\n",
    "                \n",
    "            elif L <= a_j and a_j <= H:\n",
    "                a_j = a_j\n",
    "                \n",
    "            else:\n",
    "                a_j = L\n",
    "                \n",
    "            # cek kondisi nilai a_j dengan tol\n",
    "            if np.abs(a_j - a_j_old) < tol:\n",
    "                continue\n",
    "                \n",
    "            # determine value a_i menggunakan persamaan (16)\n",
    "            a_i += y_i * y_j * (a_j_old - a_j)\n",
    "            \n",
    "            # compute b1 dan b2 menggunakan persamaan (17) dan (18)\n",
    "            b1 = b - E_i \\\n",
    "                 - y_i * (a_i - a_i_old) * np.dot(X_i, X_i) \\\n",
    "                 - y_j * (a_j - a_j_old) * np.dot(X_i, X_j)\n",
    "            \n",
    "            b2 = b - E_j \\\n",
    "                 - y_i * (a_i - a_i_old) * np.dot(X_i, X_j) \\\n",
    "                 - y_j * (a_j - a_j_old) * np.dot(X_j, X_j)\n",
    "            \n",
    "            # compute b menggunakan persamaan (19)\n",
    "            if 0 < a_i and a_i < C:\n",
    "                b = b1\n",
    "                \n",
    "            elif 0 < a_j and a_j < C:\n",
    "                b = b2\n",
    "                \n",
    "            else:\n",
    "                b = (b1 + b2) / 2\n",
    "                \n",
    "            alpha[i] = a_i\n",
    "            alpha[j] = a_j\n",
    "                \n",
    "            num_changed_alphas += 1\n",
    "    \n",
    "    if num_changed_alphas == 0:\n",
    "        passes += 1\n",
    "        \n",
    "    else:\n",
    "        passes = 0"
   ]
  },
  {
   "cell_type": "code",
   "execution_count": 32,
   "id": "30ed3d19",
   "metadata": {
    "scrolled": true
   },
   "outputs": [
    {
     "name": "stdout",
     "output_type": "stream",
     "text": [
      "[0.1  0.05 0.05 0.  ]\n"
     ]
    }
   ],
   "source": [
    "print(alpha)"
   ]
  },
  {
   "cell_type": "code",
   "execution_count": 33,
   "id": "d2e41658",
   "metadata": {},
   "outputs": [
    {
     "name": "stdout",
     "output_type": "stream",
     "text": [
      "0.95\n"
     ]
    }
   ],
   "source": [
    "print(b)"
   ]
  }
 ],
 "metadata": {
  "kernelspec": {
   "display_name": "Python 3 (ipykernel)",
   "language": "python",
   "name": "python3"
  },
  "language_info": {
   "codemirror_mode": {
    "name": "ipython",
    "version": 3
   },
   "file_extension": ".py",
   "mimetype": "text/x-python",
   "name": "python",
   "nbconvert_exporter": "python",
   "pygments_lexer": "ipython3",
   "version": "3.10.8"
  }
 },
 "nbformat": 4,
 "nbformat_minor": 5
}
